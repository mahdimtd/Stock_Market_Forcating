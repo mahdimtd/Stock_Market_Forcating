{
 "cells": [
  {
   "cell_type": "code",
   "execution_count": 169,
   "metadata": {
    "colab": {
     "base_uri": "https://localhost:8080/"
    },
    "id": "QvxLJ7wn7eO9",
    "outputId": "176ed6b5-0535-4ff1-d1d7-0e212cb10616"
   },
   "outputs": [
    {
     "name": "stdout",
     "output_type": "stream",
     "text": [
      "Requirement already satisfied: pandas-ta in /usr/local/lib/python3.11/dist-packages (0.3.14b0)\n",
      "Requirement already satisfied: pandas in /usr/local/lib/python3.11/dist-packages (from pandas-ta) (2.2.2)\n",
      "Requirement already satisfied: numpy>=1.23.2 in /usr/local/lib/python3.11/dist-packages (from pandas->pandas-ta) (1.26.4)\n",
      "Requirement already satisfied: python-dateutil>=2.8.2 in /usr/local/lib/python3.11/dist-packages (from pandas->pandas-ta) (2.8.2)\n",
      "Requirement already satisfied: pytz>=2020.1 in /usr/local/lib/python3.11/dist-packages (from pandas->pandas-ta) (2025.1)\n",
      "Requirement already satisfied: tzdata>=2022.7 in /usr/local/lib/python3.11/dist-packages (from pandas->pandas-ta) (2025.1)\n",
      "Requirement already satisfied: six>=1.5 in /usr/local/lib/python3.11/dist-packages (from python-dateutil>=2.8.2->pandas->pandas-ta) (1.17.0)\n"
     ]
    }
   ],
   "source": [
    "import pandas as pd\n",
    "import numpy as np\n",
    "!pip install pandas-ta\n",
    "import pandas_ta as ta\n",
    "from tensorflow.keras.layers import LSTM,Dense,Dropout,BatchNormalization,Bidirectional,Input,Conv1D,Flatten,Conv1D\n",
    "from tensorflow.keras.activations import relu,sigmoid,tanh,linear\n",
    "from tensorflow.keras.models import Sequential\n",
    "from tensorflow.keras.optimizers import Adam\n",
    "from tensorflow.keras.callbacks import EarlyStopping,ReduceLROnPlateau\n",
    "from tensorflow.keras.regularizers import l2\n",
    "# from keras_tuner.tuners import BayesianOptimization\n",
    "# from keras_tuner.engine.hyperparameters import HyperParameters\n",
    "from tensorflow.keras.models import Sequential\n",
    "from tensorflow.keras.layers import LSTM, Bidirectional, BatchNormalization, Dropout, Flatten, Dense, Input\n",
    "from tensorflow.keras.optimizers import Adam\n",
    "from tensorflow.keras.regularizers import l2\n",
    "# from keras_tuner.tuners import BayesianOptimization\n",
    "from tensorflow.keras.callbacks import EarlyStopping\n",
    "import  matplotlib.pyplot as plt\n",
    "from sklearn.metrics import mean_absolute_error, mean_squared_error, r2_score\n",
    "from sklearn.preprocessing import StandardScaler,MinMaxScaler\n",
    "from sklearn.model_selection import train_test_split\n",
    "\n"
   ]
  },
  {
   "cell_type": "code",
   "execution_count": 170,
   "metadata": {
    "id": "0MgY7dBQ8ZdT"
   },
   "outputs": [],
   "source": [
    "df = pd.read_csv('/content/CBOE_DLY_SPX, 60 (1).csv')"
   ]
  },
  {
   "cell_type": "code",
   "execution_count": 171,
   "metadata": {
    "id": "Fv6Xao1A8Zf_"
   },
   "outputs": [],
   "source": [
    "df = df.drop(columns='Volume',axis=1)"
   ]
  },
  {
   "cell_type": "code",
   "execution_count": 172,
   "metadata": {
    "colab": {
     "base_uri": "https://localhost:8080/"
    },
    "id": "JnuNpwH08Zih",
    "outputId": "0bff7cc0-63de-44b9-e0b7-be474b25a089"
   },
   "outputs": [
    {
     "name": "stderr",
     "output_type": "stream",
     "text": [
      "<ipython-input-172-57b6a2d72a96>:2: FutureWarning: In a future version of pandas, parsing datetimes with mixed time zones will raise an error unless `utc=True`. Please specify `utc=True` to opt in to the new behaviour and silence this warning. To create a `Series` with mixed offsets and `object` dtype, please use `apply` and `datetime.datetime.strptime`\n",
      "  df['time'] = pd.to_datetime(df['time'])\n"
     ]
    }
   ],
   "source": [
    "# import pandas as pd\n",
    "df['time'] = pd.to_datetime(df['time'])\n",
    "# df['week'] = df['time'].dt.day_name()\n",
    "df.set_index('time',inplace=True)\n",
    "# print(df['week'].unique)"
   ]
  },
  {
   "cell_type": "code",
   "execution_count": 173,
   "metadata": {
    "colab": {
     "base_uri": "https://localhost:8080/"
    },
    "id": "aHFJI0di8ZlB",
    "outputId": "500eb6ad-f296-44e1-fc55-a809afbb9640"
   },
   "outputs": [
    {
     "name": "stderr",
     "output_type": "stream",
     "text": [
      "<ipython-input-173-764a1d8ba575>:77: FutureWarning: ChainedAssignmentError: behaviour will change in pandas 3.0!\n",
      "You are setting values through chained assignment. Currently this works in certain cases, but when using Copy-on-Write (which will become the default behaviour in pandas 3.0) this will never work to update the original DataFrame or Series, because the intermediate object on which we are setting values will behave as a copy.\n",
      "A typical example is when you are setting values in a column of a DataFrame, like:\n",
      "\n",
      "df[\"col\"][row_indexer] = value\n",
      "\n",
      "Use `df.loc[row_indexer, \"col\"] = values` instead, to perform the assignment in a single step and ensure this keeps updating the original `df`.\n",
      "\n",
      "See the caveats in the documentation: https://pandas.pydata.org/pandas-docs/stable/user_guide/indexing.html#returning-a-view-versus-a-copy\n",
      "\n",
      "  df['HA_open'].iloc[0] = (df['open'].iloc[0] + df['close'].iloc[0]) / 2\n"
     ]
    }
   ],
   "source": [
    "df['next_hour_close'] = df['close'].shift(-1)\n",
    "df['ema5'] = ta.ema(df['close'] , length=5)\n",
    "df['ema10'] = ta.ema(df['close'] , length=10)\n",
    "df['ema20'] = ta.ema(df['close'] , length=20)\n",
    "df['ema50'] = ta.ema(df['close'] , length=50)\n",
    "df['ema200'] = ta.ema(df['close'] , length=200)\n",
    "df['atr'] = df['high'] - df['low']\n",
    "df['atr'] = df['atr'].rolling(14).mean()\n",
    "df['rsi'] = ta.rsi(df['close'] , length=14)\n",
    "macd = ta.macd(df['close'], fast=12, slow=26, signal=9)\n",
    "df = pd.concat([df,macd],axis=1)\n",
    "df['pivot'] = (df['high'] + df['low'] + df['close']) / 3\n",
    "df['support_1'] = (2 * df['pivot']) - df['high']\n",
    "df['support_2'] = df['pivot'] - (df['high'] - df['low'])\n",
    "df['resistance_1'] = (2 * df['pivot']) - df['low']\n",
    "df['resistance_2'] = df['pivot'] + (df['high'] - df['low'])\n",
    "bollinger = ta.bbands(df['close'],length=20,std=2)\n",
    "df = pd.concat([df,bollinger],axis=1)\n",
    "stochastic = ta.stoch(df['high'], df['low'], df['close'], k=14, d=3, smooth_k=3)\n",
    "df = pd.concat([df, stochastic], axis=1)\n",
    "adx = ta.adx(df['high'], df['low'], df['close'], length=14)\n",
    "df = pd.concat([df, adx], axis=1)\n",
    "def fibonacci_retracement(df):\n",
    "    high = df['high'].max()\n",
    "    low = df['low'].min()\n",
    "\n",
    "    diff = high - low\n",
    "\n",
    "    df['fibonaccilevel2'] = high - 0.382 * diff\n",
    "    df['fibonaccilevel3'] = high - 0.5 * diff\n",
    "    df['fibonaccilevel4'] = high - 0.618 * diff\n",
    "    df['fibonaccilevel5'] = high - 0.764 * diff\n",
    "\n",
    "    return df\n",
    "\n",
    "# fibonacci_retracement(df)\n",
    "\n",
    "def stochastic_oscillator(df, period=14, ma_period=3):\n",
    "    df['L14'] = df['low'].rolling(window=period).min()\n",
    "    df['H14'] = df['high'].rolling(window=period).max()\n",
    "    df['%K'] = (df['close'] - df['L14']) * 100 / (df['H14'] - df['L14'])\n",
    "    df['%D'] = df['%K'].rolling(window=ma_period).mean()\n",
    "    return df\n",
    "stochastic_oscillator(df)\n",
    "\n",
    "# Additional pivot-based levels\n",
    "df['support_3'] = df['low'] - 2 * (df['high'] - df['pivot'])\n",
    "df['resistance_3'] = df['high'] + 2 * (df['pivot'] - df['low'])\n",
    "# Fibonacci levels (common ratios)\n",
    "fib_range = df['high'] - df['low']\n",
    "df['fib_236'] = df['high'] - fib_range * 0.236\n",
    "df['fib_382'] = df['close'] + fib_range * 0.382  # Common retracement\n",
    "df['fib_618'] = df['close'] - fib_range * 0.618  # Golden ratio\n",
    "# Woodie's variation (uses 2*close in calculation)\n",
    "df['woodie_pivot'] = (df['high'] + df['low'] + 2 * df['close']) / 4\n",
    "df['woodie_s1'] = 2 * df['woodie_pivot'] - df['high']\n",
    "df['woodie_r1'] = 2 * df['woodie_pivot'] - df['low']\n",
    "# Camarilla system (uses different multipliers)\n",
    "df['camarilla_s1'] = df['close'] - (df['high'] - df['low']) * 1.1 / 4\n",
    "df['camarilla_r1'] = df['close'] + (df['high'] - df['low']) * 1.1 / 4\n",
    "# Midpoints between key levels\n",
    "df['mid_support'] = (df['support_1'] + df['support_2']) / 2\n",
    "df['mid_resistance'] = (df['resistance_1'] + df['resistance_2']) / 2\n",
    "# Alternative pivot calculation (includes open price)\n",
    "df['alt_pivot'] = (df['open'] + df['high'] + df['low'] + df['close']) / 4\n",
    "# Moving average of pivot points\n",
    "df['pivot_ma7'] = df['pivot'].rolling(window=7).mean()\n",
    "df['pivot_ma21'] = df['pivot'].rolling(window=21).mean()\n",
    "# Price range calculations\n",
    "df['daily_range'] = df['high'] - df['low']\n",
    "df['range_pct'] = (df['daily_range'] / df['close']) * 100\n",
    "\n",
    "df['HA_close'] = (df['open'] + df['high'] + df['low'] + df['close']) / 4\n",
    "df['HA_open'] = (df['open'].shift(1) + df['close'].shift(1)) / 2\n",
    "df['HA_high'] = df[['high', 'HA_open', 'HA_close']].max(axis=1)\n",
    "df['HA_low'] = df[['low', 'HA_open', 'HA_close']].min(axis=1)\n",
    "df['HA_open'].iloc[0] = (df['open'].iloc[0] + df['close'].iloc[0]) / 2\n"
   ]
  },
  {
   "cell_type": "code",
   "execution_count": 174,
   "metadata": {
    "id": "f82qD-mL8Zn5"
   },
   "outputs": [],
   "source": [
    "df.dropna(inplace=True)"
   ]
  },
  {
   "cell_type": "code",
   "execution_count": 175,
   "metadata": {
    "id": "A9Qa-7JY8ZqY"
   },
   "outputs": [],
   "source": [
    "features = [#'open',\n",
    "#  'high',\n",
    "#  'low',\n",
    "   'close',\n",
    "    #  'ema5',\n",
    "    # 'ema10',\n",
    "  #  'ema20',\n",
    "  #  'HA_close',\n",
    "    # 'HA_open',\n",
    "  #  'HA_high',\n",
    "    # 'HA_low',\n",
    "  # 'ema50',\n",
    "  # 'ema200',\n",
    "  #  'atr',\n",
    "  # 'rsi',\n",
    "  # 'MACD_12_26_9',\n",
    "  # 'MACDh_12_26_9',\n",
    "  # 'MACDs_12_26_9',\n",
    "      # 'pivot',\n",
    "    # 'fib_236',\n",
    "  #  'support_1',\n",
    "      # 'support_2',\n",
    "    #  'resistance_1',\n",
    "        # 'resistance_2']\n",
    " # 'BBL_20_2.0',\n",
    " # # 'BBM_20_2.0',\n",
    " # 'BBU_20_2.0',\n",
    " # # 'BBB_20_2.0',\n",
    " # # 'BBP_20_2.0',\n",
    " # # 'STOCHk_14_3_3',\n",
    " # # 'STOCHd_14_3_3',\n",
    "  # 'ADX_14',\n",
    " # # 'DMP_14',\n",
    " # # 'DMN_14',\n",
    " # 'L14',\n",
    " # 'H14',\n",
    " # # '%K',\n",
    " # # '%D',\n",
    "  #  'support_3',\n",
    "  #  'resistance_3']\n",
    "        #  'fib_382',\n",
    "    # 'fib_618']\n",
    "    #  'woodie_pivot']\n",
    "#  'woodie_s1',\n",
    "  #  'woodie_r1']\n",
    "          #  'camarilla_s1',\n",
    "         'camarilla_r1']\n",
    "    # 'mid_support',\n",
    "    # 'mid_resistance']\n",
    " # 'alt_pivot',\n",
    "  # 'pivot_ma7']\n",
    " # 'pivot_ma21']\n",
    " # # 'daily_range',\n",
    " # 'range_pct']\n",
    "target = ['next_hour_close']\n",
    "\n",
    "# close              0.999833\n",
    "# camarilla_s1       0.999827\n",
    "# camarilla_r1       0.999825\n",
    "# woodie_pivot       0.999824\n",
    "# fib_382            0.999819\n",
    "# pivot              0.999818\n",
    "# woodie_s1          0.999813\n",
    "# support_1          0.999810\n",
    "# woodie_r1          0.999809\n",
    "# resistance_1       0.999804\n",
    "# alt_pivot          0.999803\n",
    "# fib_618            0.999802\n",
    "# low                0.999782\n",
    "# mid_support        0.999779\n",
    "# high               0.999773\n",
    "# mid_resistance     0.999770\n",
    "# support_2          0.999737\n",
    "# resistance_2       0.999722\n",
    "# open               0.999720\n",
    "# ema5               0.999698\n",
    "# support_3          0.999639\n",
    "# resistance_3       0.999621\n",
    "# ema10              0.999494\n",
    "# pivot_ma7          0.999487\n",
    "# ema20              0.999074\n",
    "# L14                0.998902\n",
    "# BBM_20_2.0         0.998797\n",
    "# H14                0.998785\n",
    "# pivot_ma21         0.998697\n",
    "# BBL_20_2.0         0.998270\n",
    "# BBU_20_2.0         0.998088\n",
    "# ema50              0.997838\n",
    "# ema200             0.992243"
   ]
  },
  {
   "cell_type": "code",
   "execution_count": 176,
   "metadata": {
    "id": "qJ514iqJ8ZtC"
   },
   "outputs": [],
   "source": [
    "X = df[features].values\n",
    "y = df[target].values.reshape(-1, 1)"
   ]
  },
  {
   "cell_type": "code",
   "execution_count": 177,
   "metadata": {
    "id": "LQcHlOJg8h5c"
   },
   "outputs": [],
   "source": [
    "x_scaler = StandardScaler()\n",
    "y_scaler = StandardScaler()\n",
    "\n",
    "\n",
    "X_scaled = x_scaler.fit_transform(X)\n",
    "y_scaled = y_scaler.fit_transform(y)"
   ]
  },
  {
   "cell_type": "code",
   "execution_count": 178,
   "metadata": {
    "id": "5ElEIkM-8h3C"
   },
   "outputs": [],
   "source": [
    "Sequence_len = 40\n",
    "\n",
    "def creat_sequences(X,y,sequence_len):\n",
    "  X_seq = []\n",
    "  y_seq = []\n",
    "  for i in range(len(X)-sequence_len):\n",
    "    X_seq.append(X[i:i+sequence_len])\n",
    "    y_seq.append(y[i+sequence_len])\n",
    "  return np.array(X_seq),np.array(y_seq)"
   ]
  },
  {
   "cell_type": "code",
   "execution_count": 179,
   "metadata": {
    "id": "3_KD9XNN8h0d"
   },
   "outputs": [],
   "source": [
    "X_final,y_final = creat_sequences(X_scaled,y_scaled,Sequence_len)"
   ]
  },
  {
   "cell_type": "code",
   "execution_count": 180,
   "metadata": {
    "colab": {
     "base_uri": "https://localhost:8080/"
    },
    "id": "t8XrecNM8k3a",
    "outputId": "c0616425-a5be-4bd6-a27d-c7c30e1c9e79"
   },
   "outputs": [
    {
     "name": "stdout",
     "output_type": "stream",
     "text": [
      "(10378, 40, 2)\n",
      "(10378, 1)\n"
     ]
    }
   ],
   "source": [
    "print(X_final.shape)\n",
    "print(y_final.shape)"
   ]
  },
  {
   "cell_type": "code",
   "execution_count": 181,
   "metadata": {
    "id": "9PzojiLd8k0m"
   },
   "outputs": [],
   "source": [
    "split_index = int(len(X_final)*0.90)\n",
    "x_train = X_final[:split_index]\n",
    "y_train = y_final[:split_index]\n",
    "x_test = X_final[split_index:]\n",
    "y_test = y_final[split_index:]"
   ]
  },
  {
   "cell_type": "code",
   "execution_count": 182,
   "metadata": {
    "colab": {
     "base_uri": "https://localhost:8080/"
    },
    "id": "ZgVRKL2W8kxA",
    "outputId": "e3167f3b-b1f5-43a9-c4ee-9dc4b0129396"
   },
   "outputs": [
    {
     "name": "stdout",
     "output_type": "stream",
     "text": [
      "(9340, 40, 2)\n",
      "(9340, 1)\n",
      "(1038, 40, 2)\n",
      "(1038, 1)\n"
     ]
    }
   ],
   "source": [
    "print(x_train.shape)\n",
    "print(y_train.shape)\n",
    "print(x_test.shape)\n",
    "print(y_test.shape)"
   ]
  },
  {
   "cell_type": "code",
   "execution_count": 183,
   "metadata": {
    "colab": {
     "base_uri": "https://localhost:8080/",
     "height": 225
    },
    "id": "Cn_7NPOP8hxj",
    "outputId": "c5dfee2a-8bd4-43e0-c11a-732e486d58c3"
   },
   "outputs": [
    {
     "data": {
      "text/html": [
       "<pre style=\"white-space:pre;overflow-x:auto;line-height:normal;font-family:Menlo,'DejaVu Sans Mono',consolas,'Courier New',monospace\"><span style=\"font-weight: bold\">Model: \"sequential_7\"</span>\n",
       "</pre>\n"
      ],
      "text/plain": [
       "\u001b[1mModel: \"sequential_7\"\u001b[0m\n"
      ]
     },
     "metadata": {},
     "output_type": "display_data"
    },
    {
     "data": {
      "text/html": [
       "<pre style=\"white-space:pre;overflow-x:auto;line-height:normal;font-family:Menlo,'DejaVu Sans Mono',consolas,'Courier New',monospace\">┏━━━━━━━━━━━━━━━━━━━━━━━━━━━━━━━━━━━━━━┳━━━━━━━━━━━━━━━━━━━━━━━━━━━━━┳━━━━━━━━━━━━━━━━━┓\n",
       "┃<span style=\"font-weight: bold\"> Layer (type)                         </span>┃<span style=\"font-weight: bold\"> Output Shape                </span>┃<span style=\"font-weight: bold\">         Param # </span>┃\n",
       "┡━━━━━━━━━━━━━━━━━━━━━━━━━━━━━━━━━━━━━━╇━━━━━━━━━━━━━━━━━━━━━━━━━━━━━╇━━━━━━━━━━━━━━━━━┩\n",
       "│ lstm_7 (<span style=\"color: #0087ff; text-decoration-color: #0087ff\">LSTM</span>)                        │ (<span style=\"color: #00d7ff; text-decoration-color: #00d7ff\">None</span>, <span style=\"color: #00af00; text-decoration-color: #00af00\">384</span>)                 │         <span style=\"color: #00af00; text-decoration-color: #00af00\">594,432</span> │\n",
       "├──────────────────────────────────────┼─────────────────────────────┼─────────────────┤\n",
       "│ dense_14 (<span style=\"color: #0087ff; text-decoration-color: #0087ff\">Dense</span>)                     │ (<span style=\"color: #00d7ff; text-decoration-color: #00d7ff\">None</span>, <span style=\"color: #00af00; text-decoration-color: #00af00\">48</span>)                  │          <span style=\"color: #00af00; text-decoration-color: #00af00\">18,480</span> │\n",
       "├──────────────────────────────────────┼─────────────────────────────┼─────────────────┤\n",
       "│ dense_15 (<span style=\"color: #0087ff; text-decoration-color: #0087ff\">Dense</span>)                     │ (<span style=\"color: #00d7ff; text-decoration-color: #00d7ff\">None</span>, <span style=\"color: #00af00; text-decoration-color: #00af00\">1</span>)                   │              <span style=\"color: #00af00; text-decoration-color: #00af00\">49</span> │\n",
       "└──────────────────────────────────────┴─────────────────────────────┴─────────────────┘\n",
       "</pre>\n"
      ],
      "text/plain": [
       "┏━━━━━━━━━━━━━━━━━━━━━━━━━━━━━━━━━━━━━━┳━━━━━━━━━━━━━━━━━━━━━━━━━━━━━┳━━━━━━━━━━━━━━━━━┓\n",
       "┃\u001b[1m \u001b[0m\u001b[1mLayer (type)                        \u001b[0m\u001b[1m \u001b[0m┃\u001b[1m \u001b[0m\u001b[1mOutput Shape               \u001b[0m\u001b[1m \u001b[0m┃\u001b[1m \u001b[0m\u001b[1m        Param #\u001b[0m\u001b[1m \u001b[0m┃\n",
       "┡━━━━━━━━━━━━━━━━━━━━━━━━━━━━━━━━━━━━━━╇━━━━━━━━━━━━━━━━━━━━━━━━━━━━━╇━━━━━━━━━━━━━━━━━┩\n",
       "│ lstm_7 (\u001b[38;5;33mLSTM\u001b[0m)                        │ (\u001b[38;5;45mNone\u001b[0m, \u001b[38;5;34m384\u001b[0m)                 │         \u001b[38;5;34m594,432\u001b[0m │\n",
       "├──────────────────────────────────────┼─────────────────────────────┼─────────────────┤\n",
       "│ dense_14 (\u001b[38;5;33mDense\u001b[0m)                     │ (\u001b[38;5;45mNone\u001b[0m, \u001b[38;5;34m48\u001b[0m)                  │          \u001b[38;5;34m18,480\u001b[0m │\n",
       "├──────────────────────────────────────┼─────────────────────────────┼─────────────────┤\n",
       "│ dense_15 (\u001b[38;5;33mDense\u001b[0m)                     │ (\u001b[38;5;45mNone\u001b[0m, \u001b[38;5;34m1\u001b[0m)                   │              \u001b[38;5;34m49\u001b[0m │\n",
       "└──────────────────────────────────────┴─────────────────────────────┴─────────────────┘\n"
      ]
     },
     "metadata": {},
     "output_type": "display_data"
    },
    {
     "data": {
      "text/html": [
       "<pre style=\"white-space:pre;overflow-x:auto;line-height:normal;font-family:Menlo,'DejaVu Sans Mono',consolas,'Courier New',monospace\"><span style=\"font-weight: bold\"> Total params: </span><span style=\"color: #00af00; text-decoration-color: #00af00\">612,961</span> (2.34 MB)\n",
       "</pre>\n"
      ],
      "text/plain": [
       "\u001b[1m Total params: \u001b[0m\u001b[38;5;34m612,961\u001b[0m (2.34 MB)\n"
      ]
     },
     "metadata": {},
     "output_type": "display_data"
    },
    {
     "data": {
      "text/html": [
       "<pre style=\"white-space:pre;overflow-x:auto;line-height:normal;font-family:Menlo,'DejaVu Sans Mono',consolas,'Courier New',monospace\"><span style=\"font-weight: bold\"> Trainable params: </span><span style=\"color: #00af00; text-decoration-color: #00af00\">612,961</span> (2.34 MB)\n",
       "</pre>\n"
      ],
      "text/plain": [
       "\u001b[1m Trainable params: \u001b[0m\u001b[38;5;34m612,961\u001b[0m (2.34 MB)\n"
      ]
     },
     "metadata": {},
     "output_type": "display_data"
    },
    {
     "data": {
      "text/html": [
       "<pre style=\"white-space:pre;overflow-x:auto;line-height:normal;font-family:Menlo,'DejaVu Sans Mono',consolas,'Courier New',monospace\"><span style=\"font-weight: bold\"> Non-trainable params: </span><span style=\"color: #00af00; text-decoration-color: #00af00\">0</span> (0.00 B)\n",
       "</pre>\n"
      ],
      "text/plain": [
       "\u001b[1m Non-trainable params: \u001b[0m\u001b[38;5;34m0\u001b[0m (0.00 B)\n"
      ]
     },
     "metadata": {},
     "output_type": "display_data"
    }
   ],
   "source": [
    "def objective(trial):\n",
    "    # هایپرپارامترهای پایه\n",
    "    n_lstm_layers = trial.suggest_int(\"n_lstm_layers\", 1, 3)\n",
    "    n_dense_layers = trial.suggest_int(\"n_dense_layers\", 1, 3)\n",
    "    learning_rate = trial.suggest_float(\"learning_rate\", 1e-5, 1e-2, log=True)\n",
    "    batch_size = trial.suggest_categorical(\"batch_size\", [16, 32, 64])\n",
    "\n",
    "    # تعریف پارامترهای مجزا برای هر لایه LSTM\n",
    "    lstm_units_list = [\n",
    "        trial.suggest_int(f\"lstm_units_{i}\", 32, 512, step=32)\n",
    "        for i in range(3)  # حداکثر 3 لایه\n",
    "    ]\n",
    "    lstm_dropout = [\n",
    "        trial.suggest_float(f\"lstm_dropout_{i}\", 0.0, 0.5, step=0.1)\n",
    "        for i in range(3)\n",
    "    ]\n",
    "    lstm_l2 = [\n",
    "        trial.suggest_float(f\"lstm_l2_{i}\", 1e-6, 1e-2, log=True)\n",
    "        for i in range(3)\n",
    "    ]\n",
    "\n",
    "    # تعریف پارامترهای مجزا برای هر لایه Dense\n",
    "    dense_units_list = [\n",
    "        trial.suggest_int(f\"dense_units_{i}\", 16, 256, step=16)\n",
    "        for i in range(3)  # حداکثر 3 لایه\n",
    "    ]\n",
    "    dense_dropout = [\n",
    "        trial.suggest_float(f\"dense_dropout_{i}\", 0.0, 0.5, step=0.1)\n",
    "        for i in range(3)\n",
    "    ]\n",
    "    dense_l2 = [\n",
    "        trial.suggest_float(f\"dense_l2_{i}\", 1e-6, 1e-2, log=True)\n",
    "        for i in range(3)\n",
    "    ]\n",
    "\n",
    "    # ساخت مدل\n",
    "    model = Sequential()\n",
    "\n",
    "    # اولین لایه LSTM\n",
    "    model.add(Bidirectional(\n",
    "        LSTM(\n",
    "            lstm_units_list[0],\n",
    "            return_sequences=(n_lstm_layers > 1),\n",
    "            kernel_regularizer=l2(lstm_l2[0])  # L2 مجزا برای لایه اول\n",
    "        ),\n",
    "        input_shape=(Sequence_len, x_train.shape[2])\n",
    "    ))\n",
    "    model.add(Dropout(lstm_dropout[0]))  # Dropout مجزا برای لایه اول\n",
    "\n",
    "    # سایر لایههای LSTM\n",
    "    for i in range(1, n_lstm_layers):\n",
    "        return_sequences = (i < n_lstm_layers - 1)\n",
    "        model.add(Bidirectional(\n",
    "            LSTM(\n",
    "                lstm_units_list[i],\n",
    "                return_sequences=return_sequences,\n",
    "                kernel_regularizer=l2(lstm_l2[i])  # L2 مجزا\n",
    "            )\n",
    "        ))\n",
    "        model.add(Dropout(lstm_dropout[i]))  # Dropout مجزا\n",
    "\n",
    "    # لایههای Dense\n",
    "    for i in range(n_dense_layers):\n",
    "        model.add(Dense(\n",
    "            dense_units_list[i],\n",
    "            activation='relu',\n",
    "            kernel_regularizer=l2(dense_l2[i])  # L2 مجزا برای Dense\n",
    "        ))\n",
    "        model.add(Dropout(dense_dropout[i]))  # Dropout مجزا\n",
    "\n",
    "    # لایه خروجی\n",
    "    model.add(Dense(1, activation='linear'))\n",
    "\n",
    "    # کامپایل مدل\n",
    "    model.compile(\n",
    "        optimizer=Adam(learning_rate=learning_rate),\n",
    "        loss=\"mse\",\n",
    "        metrics=[\"mae\"]\n",
    "    )\n",
    "    Es = EarlyStopping(monitor='val_mae',patience=10)\n",
    "\n",
    "\n",
    "    # آموزش مدل\n",
    "    history = model.fit(\n",
    "        x_train, y_train,\n",
    "        validation_data=(x_test, y_test),\n",
    "        batch_size=batch_size,\n",
    "        epochs=30,\n",
    "        verbose=1,\n",
    "        callbacks=[Es]\n",
    "    )\n",
    "\n",
    "    return min(history.history[\"val_loss\"])"
   ]
  },
  {
   "cell_type": "code",
   "execution_count": 184,
   "metadata": {
    "colab": {
     "base_uri": "https://localhost:8080/"
    },
    "id": "ziRDkJ1M8Zvl",
    "outputId": "c25716ed-6f0b-4a88-b849-b951c3960c41"
   },
   "outputs": [
    {
     "name": "stdout",
     "output_type": "stream",
     "text": [
      "Epoch 1/200\n",
      "\u001b[1m292/292\u001b[0m \u001b[32m━━━━━━━━━━━━━━━━━━━━\u001b[0m\u001b[37m\u001b[0m \u001b[1m6s\u001b[0m 13ms/step - loss: 0.0268 - mae: 0.0711 - val_loss: 0.0014 - val_mae: 0.0231\n",
      "Epoch 2/200\n",
      "\u001b[1m292/292\u001b[0m \u001b[32m━━━━━━━━━━━━━━━━━━━━\u001b[0m\u001b[37m\u001b[0m \u001b[1m8s\u001b[0m 22ms/step - loss: 0.0013 - mae: 0.0234 - val_loss: 0.0013 - val_mae: 0.0231\n",
      "Epoch 3/200\n",
      "\u001b[1m292/292\u001b[0m \u001b[32m━━━━━━━━━━━━━━━━━━━━\u001b[0m\u001b[37m\u001b[0m \u001b[1m10s\u001b[0m 20ms/step - loss: 0.0013 - mae: 0.0231 - val_loss: 0.0012 - val_mae: 0.0216\n",
      "Epoch 4/200\n",
      "\u001b[1m292/292\u001b[0m \u001b[32m━━━━━━━━━━━━━━━━━━━━\u001b[0m\u001b[37m\u001b[0m \u001b[1m3s\u001b[0m 11ms/step - loss: 0.0012 - mae: 0.0228 - val_loss: 0.0011 - val_mae: 0.0198\n",
      "Epoch 5/200\n",
      "\u001b[1m292/292\u001b[0m \u001b[32m━━━━━━━━━━━━━━━━━━━━\u001b[0m\u001b[37m\u001b[0m \u001b[1m6s\u001b[0m 13ms/step - loss: 0.0011 - mae: 0.0214 - val_loss: 0.0012 - val_mae: 0.0220\n",
      "Epoch 6/200\n",
      "\u001b[1m292/292\u001b[0m \u001b[32m━━━━━━━━━━━━━━━━━━━━\u001b[0m\u001b[37m\u001b[0m \u001b[1m3s\u001b[0m 12ms/step - loss: 0.0011 - mae: 0.0220 - val_loss: 0.0010 - val_mae: 0.0197\n",
      "Epoch 7/200\n",
      "\u001b[1m292/292\u001b[0m \u001b[32m━━━━━━━━━━━━━━━━━━━━\u001b[0m\u001b[37m\u001b[0m \u001b[1m3s\u001b[0m 11ms/step - loss: 0.0010 - mae: 0.0209 - val_loss: 9.6389e-04 - val_mae: 0.0193\n",
      "Epoch 8/200\n",
      "\u001b[1m292/292\u001b[0m \u001b[32m━━━━━━━━━━━━━━━━━━━━\u001b[0m\u001b[37m\u001b[0m \u001b[1m6s\u001b[0m 13ms/step - loss: 0.0010 - mae: 0.0208 - val_loss: 9.4702e-04 - val_mae: 0.0189\n",
      "Epoch 9/200\n",
      "\u001b[1m292/292\u001b[0m \u001b[32m━━━━━━━━━━━━━━━━━━━━\u001b[0m\u001b[37m\u001b[0m \u001b[1m3s\u001b[0m 11ms/step - loss: 9.8138e-04 - mae: 0.0201 - val_loss: 0.0012 - val_mae: 0.0245\n",
      "Epoch 10/200\n",
      "\u001b[1m292/292\u001b[0m \u001b[32m━━━━━━━━━━━━━━━━━━━━\u001b[0m\u001b[37m\u001b[0m \u001b[1m3s\u001b[0m 11ms/step - loss: 0.0010 - mae: 0.0199 - val_loss: 0.0011 - val_mae: 0.0224\n",
      "Epoch 11/200\n",
      "\u001b[1m292/292\u001b[0m \u001b[32m━━━━━━━━━━━━━━━━━━━━\u001b[0m\u001b[37m\u001b[0m \u001b[1m3s\u001b[0m 11ms/step - loss: 0.0010 - mae: 0.0205 - val_loss: 9.2965e-04 - val_mae: 0.0192\n",
      "Epoch 12/200\n",
      "\u001b[1m292/292\u001b[0m \u001b[32m━━━━━━━━━━━━━━━━━━━━\u001b[0m\u001b[37m\u001b[0m \u001b[1m4s\u001b[0m 14ms/step - loss: 9.8051e-04 - mae: 0.0198 - val_loss: 9.1679e-04 - val_mae: 0.0187\n",
      "Epoch 13/200\n",
      "\u001b[1m292/292\u001b[0m \u001b[32m━━━━━━━━━━━━━━━━━━━━\u001b[0m\u001b[37m\u001b[0m \u001b[1m3s\u001b[0m 11ms/step - loss: 0.0010 - mae: 0.0204 - val_loss: 8.8336e-04 - val_mae: 0.0181\n",
      "Epoch 14/200\n",
      "\u001b[1m292/292\u001b[0m \u001b[32m━━━━━━━━━━━━━━━━━━━━\u001b[0m\u001b[37m\u001b[0m \u001b[1m5s\u001b[0m 11ms/step - loss: 9.5105e-04 - mae: 0.0199 - val_loss: 0.0010 - val_mae: 0.0226\n",
      "Epoch 15/200\n",
      "\u001b[1m292/292\u001b[0m \u001b[32m━━━━━━━━━━━━━━━━━━━━\u001b[0m\u001b[37m\u001b[0m \u001b[1m5s\u001b[0m 11ms/step - loss: 0.0010 - mae: 0.0211 - val_loss: 8.6279e-04 - val_mae: 0.0175\n",
      "Epoch 16/200\n",
      "\u001b[1m292/292\u001b[0m \u001b[32m━━━━━━━━━━━━━━━━━━━━\u001b[0m\u001b[37m\u001b[0m \u001b[1m3s\u001b[0m 11ms/step - loss: 9.2743e-04 - mae: 0.0194 - val_loss: 8.6212e-04 - val_mae: 0.0174\n",
      "Epoch 17/200\n",
      "\u001b[1m292/292\u001b[0m \u001b[32m━━━━━━━━━━━━━━━━━━━━\u001b[0m\u001b[37m\u001b[0m \u001b[1m7s\u001b[0m 17ms/step - loss: 9.6328e-04 - mae: 0.0204 - val_loss: 9.3909e-04 - val_mae: 0.0198\n",
      "Epoch 18/200\n",
      "\u001b[1m292/292\u001b[0m \u001b[32m━━━━━━━━━━━━━━━━━━━━\u001b[0m\u001b[37m\u001b[0m \u001b[1m3s\u001b[0m 12ms/step - loss: 0.0011 - mae: 0.0220 - val_loss: 8.6035e-04 - val_mae: 0.0179\n",
      "Epoch 19/200\n",
      "\u001b[1m292/292\u001b[0m \u001b[32m━━━━━━━━━━━━━━━━━━━━\u001b[0m\u001b[37m\u001b[0m \u001b[1m5s\u001b[0m 11ms/step - loss: 9.4375e-04 - mae: 0.0196 - val_loss: 9.7131e-04 - val_mae: 0.0202\n",
      "Epoch 20/200\n",
      "\u001b[1m292/292\u001b[0m \u001b[32m━━━━━━━━━━━━━━━━━━━━\u001b[0m\u001b[37m\u001b[0m \u001b[1m4s\u001b[0m 13ms/step - loss: 9.5010e-04 - mae: 0.0201 - val_loss: 9.5351e-04 - val_mae: 0.0199\n",
      "Epoch 21/200\n",
      "\u001b[1m292/292\u001b[0m \u001b[32m━━━━━━━━━━━━━━━━━━━━\u001b[0m\u001b[37m\u001b[0m \u001b[1m3s\u001b[0m 11ms/step - loss: 9.2104e-04 - mae: 0.0196 - val_loss: 8.3604e-04 - val_mae: 0.0173\n",
      "Epoch 22/200\n",
      "\u001b[1m292/292\u001b[0m \u001b[32m━━━━━━━━━━━━━━━━━━━━\u001b[0m\u001b[37m\u001b[0m \u001b[1m5s\u001b[0m 11ms/step - loss: 9.2952e-04 - mae: 0.0197 - val_loss: 0.0011 - val_mae: 0.0230\n",
      "Epoch 23/200\n",
      "\u001b[1m292/292\u001b[0m \u001b[32m━━━━━━━━━━━━━━━━━━━━\u001b[0m\u001b[37m\u001b[0m \u001b[1m4s\u001b[0m 13ms/step - loss: 9.6891e-04 - mae: 0.0209 - val_loss: 9.0028e-04 - val_mae: 0.0198\n",
      "Epoch 24/200\n",
      "\u001b[1m292/292\u001b[0m \u001b[32m━━━━━━━━━━━━━━━━━━━━\u001b[0m\u001b[37m\u001b[0m \u001b[1m3s\u001b[0m 12ms/step - loss: 9.1198e-04 - mae: 0.0196 - val_loss: 8.3076e-04 - val_mae: 0.0176\n",
      "Epoch 25/200\n",
      "\u001b[1m292/292\u001b[0m \u001b[32m━━━━━━━━━━━━━━━━━━━━\u001b[0m\u001b[37m\u001b[0m \u001b[1m3s\u001b[0m 11ms/step - loss: 9.2568e-04 - mae: 0.0199 - val_loss: 8.6315e-04 - val_mae: 0.0183\n",
      "Epoch 26/200\n",
      "\u001b[1m292/292\u001b[0m \u001b[32m━━━━━━━━━━━━━━━━━━━━\u001b[0m\u001b[37m\u001b[0m \u001b[1m3s\u001b[0m 12ms/step - loss: 9.0907e-04 - mae: 0.0196 - val_loss: 0.0011 - val_mae: 0.0236\n",
      "Epoch 27/200\n",
      "\u001b[1m292/292\u001b[0m \u001b[32m━━━━━━━━━━━━━━━━━━━━\u001b[0m\u001b[37m\u001b[0m \u001b[1m5s\u001b[0m 12ms/step - loss: 0.0011 - mae: 0.0217 - val_loss: 8.4756e-04 - val_mae: 0.0185\n",
      "Epoch 28/200\n",
      "\u001b[1m292/292\u001b[0m \u001b[32m━━━━━━━━━━━━━━━━━━━━\u001b[0m\u001b[37m\u001b[0m \u001b[1m3s\u001b[0m 11ms/step - loss: 8.9847e-04 - mae: 0.0193 - val_loss: 8.9617e-04 - val_mae: 0.0199\n",
      "Epoch 29/200\n",
      "\u001b[1m292/292\u001b[0m \u001b[32m━━━━━━━━━━━━━━━━━━━━\u001b[0m\u001b[37m\u001b[0m \u001b[1m5s\u001b[0m 16ms/step - loss: 8.7444e-04 - mae: 0.0195 - val_loss: 0.0011 - val_mae: 0.0243\n",
      "Epoch 30/200\n",
      "\u001b[1m292/292\u001b[0m \u001b[32m━━━━━━━━━━━━━━━━━━━━\u001b[0m\u001b[37m\u001b[0m \u001b[1m4s\u001b[0m 12ms/step - loss: 8.8022e-04 - mae: 0.0193 - val_loss: 7.9429e-04 - val_mae: 0.0174\n",
      "Epoch 31/200\n",
      "\u001b[1m292/292\u001b[0m \u001b[32m━━━━━━━━━━━━━━━━━━━━\u001b[0m\u001b[37m\u001b[0m \u001b[1m3s\u001b[0m 11ms/step - loss: 8.9595e-04 - mae: 0.0196 - val_loss: 7.9403e-04 - val_mae: 0.0176\n"
     ]
    }
   ],
   "source": [
    "study = optuna.create_study(direction=\"minimize\")  # هدف کاهش loss است\n",
    "study.optimize(objective, n_trials=50)  # تعداد اجراهای مختلف"
   ]
  },
  {
   "cell_type": "code",
   "execution_count": 185,
   "metadata": {
    "colab": {
     "base_uri": "https://localhost:8080/"
    },
    "id": "cJJsQ47G8ZyS",
    "outputId": "3d3317a2-e55d-45f5-aa48-47f6d6ffafc9"
   },
   "outputs": [
    {
     "name": "stdout",
     "output_type": "stream",
     "text": [
      "\u001b[1m33/33\u001b[0m \u001b[32m━━━━━━━━━━━━━━━━━━━━\u001b[0m\u001b[37m\u001b[0m \u001b[1m0s\u001b[0m 5ms/step - loss: 9.3549e-04 - mae: 0.0195\n",
      "Test Loss: 0.0010328423231840134, Test MAE: 0.02050572820007801\n"
     ]
    }
   ],
   "source": [
    "print(\"Best hyperparameters: \", study.best_params)\n"
   ]
  }
 ],
 "metadata": {
  "accelerator": "GPU",
  "colab": {
   "gpuType": "T4",
   "provenance": []
  },
  "kernelspec": {
   "display_name": "Python 3 (ipykernel)",
   "language": "python",
   "name": "python3"
  },
  "language_info": {
   "codemirror_mode": {
    "name": "ipython",
    "version": 3
   },
   "file_extension": ".py",
   "mimetype": "text/x-python",
   "name": "python",
   "nbconvert_exporter": "python",
   "pygments_lexer": "ipython3",
   "version": "3.9.21"
  }
 },
 "nbformat": 4,
 "nbformat_minor": 4
}
