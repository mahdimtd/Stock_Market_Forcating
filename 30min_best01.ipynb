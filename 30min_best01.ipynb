{
  "cells": [
    {
      "cell_type": "code",
      "execution_count": 55,
      "metadata": {
        "colab": {
          "base_uri": "https://localhost:8080/"
        },
        "id": "Q4jDyvhjl_oc",
        "outputId": "b9fd6cdd-6413-4cb7-9108-b5f67edcd929"
      },
      "outputs": [
        {
          "output_type": "stream",
          "name": "stdout",
          "text": [
            "Requirement already satisfied: pandas-ta in /usr/local/lib/python3.11/dist-packages (0.3.14b0)\n",
            "Requirement already satisfied: pandas in /usr/local/lib/python3.11/dist-packages (from pandas-ta) (2.2.2)\n",
            "Requirement already satisfied: numpy>=1.23.2 in /usr/local/lib/python3.11/dist-packages (from pandas->pandas-ta) (1.26.4)\n",
            "Requirement already satisfied: python-dateutil>=2.8.2 in /usr/local/lib/python3.11/dist-packages (from pandas->pandas-ta) (2.8.2)\n",
            "Requirement already satisfied: pytz>=2020.1 in /usr/local/lib/python3.11/dist-packages (from pandas->pandas-ta) (2025.1)\n",
            "Requirement already satisfied: tzdata>=2022.7 in /usr/local/lib/python3.11/dist-packages (from pandas->pandas-ta) (2025.1)\n",
            "Requirement already satisfied: six>=1.5 in /usr/local/lib/python3.11/dist-packages (from python-dateutil>=2.8.2->pandas->pandas-ta) (1.17.0)\n"
          ]
        }
      ],
      "source": [
        "import pandas as pd\n",
        "import numpy as np\n",
        "!pip install pandas-ta\n",
        "import pandas_ta as ta\n",
        "\n",
        "from tensorflow.keras.layers import LSTM,Dense,Dropout,BatchNormalization,Bidirectional,Input,Conv1D,Flatten,Conv1D,MaxPooling1D\n",
        "from tensorflow.keras.activations import relu,sigmoid,tanh,linear\n",
        "from tensorflow.keras.models import Sequential\n",
        "from tensorflow.keras.optimizers import Adam\n",
        "from tensorflow.keras.callbacks import EarlyStopping,ReduceLROnPlateau\n",
        "from tensorflow.keras.regularizers import l2\n",
        "# from keras_tuner.tuners import BayesianOptimization\n",
        "# from keras_tuner.engine.hyperparameters import HyperParameters\n",
        "from tensorflow.keras.models import Sequential\n",
        "from tensorflow.keras.layers import LSTM, Bidirectional, BatchNormalization, Dropout, Flatten, Dense, Input\n",
        "from tensorflow.keras.optimizers import Adam\n",
        "from tensorflow.keras.regularizers import l2\n",
        "# from keras_tuner.tuners import BayesianOptimization\n",
        "from tensorflow.keras.callbacks import EarlyStopping\n",
        "import  matplotlib.pyplot as plt\n",
        "from sklearn.metrics import mean_absolute_error, mean_squared_error, r2_score\n",
        "from sklearn.preprocessing import StandardScaler,MinMaxScaler\n",
        "from sklearn.model_selection import train_test_split\n",
        "\n"
      ]
    },
    {
      "cell_type": "code",
      "execution_count": 56,
      "metadata": {
        "id": "NPJ0wOexl_q6"
      },
      "outputs": [],
      "source": [
        "df = pd.read_csv('/content/drive/MyDrive/DATA/SPX_Data/CBOE_DLY_SPX, 30.csv')"
      ]
    },
    {
      "cell_type": "code",
      "source": [
        "# df.dropna(inplace=True)"
      ],
      "metadata": {
        "id": "3IegGI9PvnhV"
      },
      "execution_count": 57,
      "outputs": []
    },
    {
      "cell_type": "code",
      "execution_count": 58,
      "metadata": {
        "id": "QK0MuZJfl_tV"
      },
      "outputs": [],
      "source": [
        "df = df.drop(columns='Volume',axis=1)\n",
        "df.set_index('time',inplace=True)\n"
      ]
    },
    {
      "cell_type": "code",
      "execution_count": 59,
      "metadata": {
        "colab": {
          "base_uri": "https://localhost:8080/"
        },
        "id": "v5_HGJV1l_ya",
        "outputId": "5383f277-22d6-40f4-d04d-84fadb533448"
      },
      "outputs": [
        {
          "output_type": "stream",
          "name": "stderr",
          "text": [
            "<ipython-input-59-7af911b48948>:88: FutureWarning: ChainedAssignmentError: behaviour will change in pandas 3.0!\n",
            "You are setting values through chained assignment. Currently this works in certain cases, but when using Copy-on-Write (which will become the default behaviour in pandas 3.0) this will never work to update the original DataFrame or Series, because the intermediate object on which we are setting values will behave as a copy.\n",
            "A typical example is when you are setting values in a column of a DataFrame, like:\n",
            "\n",
            "df[\"col\"][row_indexer] = value\n",
            "\n",
            "Use `df.loc[row_indexer, \"col\"] = values` instead, to perform the assignment in a single step and ensure this keeps updating the original `df`.\n",
            "\n",
            "See the caveats in the documentation: https://pandas.pydata.org/pandas-docs/stable/user_guide/indexing.html#returning-a-view-versus-a-copy\n",
            "\n",
            "  df['HA_open'].iloc[0] = (df['open'].iloc[0] + df['close'].iloc[0]) / 2\n"
          ]
        }
      ],
      "source": [
        "df['next_hour_Close'] = df['close'].shift(-1)\n",
        "df['target'] =  df['next_hour_Close'] - df['close']\n",
        "df['ema5'] = ta.ema(df['close'] , length=5)\n",
        "df['ema10'] = ta.ema(df['close'] , length=10)\n",
        "# delta = df['close'].diff()\n",
        "df['upper_shadow'] = df['high'] - np.maximum(df['open'], df['close'])\n",
        "df['lower_shadow'] = np.minimum(df['open'], df['close']) - df['low']\n",
        "df['body'] = abs(df['close'] - df['open'])\n",
        "df['candle_range'] = df['high'] - df['low']\n",
        "df['atr'] = df['high'] - df['low']\n",
        "df['atr'] = df['atr'].rolling(14).mean()\n",
        "\n",
        "# gain = (delta.where(delta > 0, 0)).rolling(window=14).mean()\n",
        "# loss = (-delta.where(delta < 0, 0)).rolling(window=14).mean()\n",
        "# rs = gain / loss\n",
        "# df['RSI'] = 100 - (100 / (1 + rs))\n",
        "# df['ema20'] = ta.ema(df['close'] , length=20)\n",
        "# df['ema50'] = ta.ema(df['close'] , length=50)\n",
        "# df['ema200'] = ta.ema(df['close'] , length=200)\n",
        "df['rsi'] = ta.rsi(df['close'] , length=14)\n",
        "macd = ta.macd(df['close'], fast=12, slow=26, signal=9)\n",
        "df = pd.concat([df,macd],axis=1)\n",
        "df['pivot'] = (df['high'] + df['low'] + df['close']) / 3\n",
        "df['support_1'] = (2 * df['pivot']) - df['high']\n",
        "df['support_2'] = df['pivot'] - (df['high'] - df['low'])\n",
        "df['resistance_1'] = (2 * df['pivot']) - df['low']\n",
        "df['resistance_2'] = df['pivot'] + (df['high'] - df['low'])\n",
        "bollinger = ta.bbands(df['close'],length=20,std=2)\n",
        "df = pd.concat([df,bollinger],axis=1)\n",
        "stochastic = ta.stoch(df['high'], df['low'], df['close'], k=14, d=3, smooth_k=3)\n",
        "df = pd.concat([df, stochastic], axis=1)\n",
        "adx = ta.adx(df['high'], df['low'], df['close'], length=14)\n",
        "df = pd.concat([df, adx], axis=1)\n",
        "def fibonacci_retracement(df):\n",
        "    high = df['high'].max()\n",
        "    low = df['low'].min()\n",
        "\n",
        "    diff = high - low\n",
        "\n",
        "    df['fibonaccilevel2'] = high - 0.382 * diff\n",
        "    df['fibonaccilevel3'] = high - 0.5 * diff\n",
        "    df['fibonaccilevel4'] = high - 0.618 * diff\n",
        "    df['fibonaccilevel5'] = high - 0.764 * diff\n",
        "\n",
        "    return df\n",
        "\n",
        "# fibonacci_retracement(df)\n",
        "\n",
        "def stochastic_oscillator(df, period=14, ma_period=3):\n",
        "    df['L14'] = df['low'].rolling(window=period).min()\n",
        "    df['H14'] = df['high'].rolling(window=period).max()\n",
        "    df['%K'] = (df['close'] - df['L14']) * 100 / (df['H14'] - df['L14'])\n",
        "    df['%D'] = df['%K'].rolling(window=ma_period).mean()\n",
        "    return df\n",
        "stochastic_oscillator(df)\n",
        "\n",
        "# Additional pivot-based levels\n",
        "df['support_3'] = df['low'] - 2 * (df['high'] - df['pivot'])\n",
        "df['resistance_3'] = df['high'] + 2 * (df['pivot'] - df['low'])\n",
        "# Fibonacci levels (common ratios)\n",
        "fib_range = df['high'] - df['low']\n",
        "df['fib_236'] = df['high'] - fib_range * 0.236\n",
        "df['fib_382'] = df['close'] + fib_range * 0.382  # Common retracement\n",
        "df['fib_618'] = df['close'] - fib_range * 0.618  # Golden ratio\n",
        "# Woodie's variation (uses 2*close in calculation)\n",
        "df['woodie_pivot'] = (df['high'] + df['low'] + 2 * df['close']) / 4\n",
        "df['woodie_s1'] = 2 * df['woodie_pivot'] - df['high']\n",
        "df['woodie_r1'] = 2 * df['woodie_pivot'] - df['low']\n",
        "# Camarilla system (uses different multipliers)\n",
        "df['camarilla_s1'] = df['close'] - (df['high'] - df['low']) * 1.1 / 4\n",
        "df['camarilla_r1'] = df['close'] + (df['high'] - df['low']) * 1.1 / 4\n",
        "# Midpoints between key levels\n",
        "df['mid_support'] = (df['support_1'] + df['support_2']) / 2\n",
        "df['mid_resistance'] = (df['resistance_1'] + df['resistance_2']) / 2\n",
        "# Alternative pivot calculation (includes open price)\n",
        "df['alt_pivot'] = (df['open'] + df['high'] + df['low'] + df['close']) / 4\n",
        "# Moving average of pivot points\n",
        "df['pivot_ma7'] = df['pivot'].rolling(window=7).mean()\n",
        "df['pivot_ma21'] = df['pivot'].rolling(window=21).mean()\n",
        "# Price range calculations\n",
        "df['daily_range'] = df['high'] - df['low']\n",
        "df['range_pct'] = (df['daily_range'] / df['close']) * 100\n",
        "\n",
        "df['HA_Close'] = (df['open'] + df['high'] + df['low'] + df['close']) / 4\n",
        "df['HA_open'] = (df['open'].shift(1) + df['close'].shift(1)) / 2\n",
        "df['HA_high'] = df[['high', 'HA_open', 'HA_Close']].max(axis=1)\n",
        "df['HA_low'] = df[['low', 'HA_open', 'HA_Close']].min(axis=1)\n",
        "df['HA_open'].iloc[0] = (df['open'].iloc[0] + df['close'].iloc[0]) / 2\n"
      ]
    },
    {
      "cell_type": "code",
      "source": [
        "# df.dropna(inplace=True)"
      ],
      "metadata": {
        "id": "Qx4sMe4Dirjc"
      },
      "execution_count": 60,
      "outputs": []
    },
    {
      "cell_type": "code",
      "execution_count": 61,
      "metadata": {
        "id": "1LPLZYxGn3vF"
      },
      "outputs": [],
      "source": [
        "# df.set_index('date',inplace=True)"
      ]
    },
    {
      "cell_type": "code",
      "execution_count": 62,
      "metadata": {
        "colab": {
          "base_uri": "https://localhost:8080/"
        },
        "id": "lTFJO7QJn1z-",
        "outputId": "b566b2d5-393c-43c2-851c-dca930f7dc45"
      },
      "outputs": [
        {
          "output_type": "execute_result",
          "data": {
            "text/plain": [
              "['open',\n",
              " 'high',\n",
              " 'low',\n",
              " 'close',\n",
              " 'next_hour_Close',\n",
              " 'target',\n",
              " 'ema5',\n",
              " 'ema10',\n",
              " 'upper_shadow',\n",
              " 'lower_shadow',\n",
              " 'body',\n",
              " 'candle_range',\n",
              " 'atr',\n",
              " 'rsi',\n",
              " 'MACD_12_26_9',\n",
              " 'MACDh_12_26_9',\n",
              " 'MACDs_12_26_9',\n",
              " 'pivot',\n",
              " 'support_1',\n",
              " 'support_2',\n",
              " 'resistance_1',\n",
              " 'resistance_2',\n",
              " 'BBL_20_2.0',\n",
              " 'BBM_20_2.0',\n",
              " 'BBU_20_2.0',\n",
              " 'BBB_20_2.0',\n",
              " 'BBP_20_2.0',\n",
              " 'STOCHk_14_3_3',\n",
              " 'STOCHd_14_3_3',\n",
              " 'ADX_14',\n",
              " 'DMP_14',\n",
              " 'DMN_14',\n",
              " 'L14',\n",
              " 'H14',\n",
              " '%K',\n",
              " '%D',\n",
              " 'support_3',\n",
              " 'resistance_3',\n",
              " 'fib_236',\n",
              " 'fib_382',\n",
              " 'fib_618',\n",
              " 'woodie_pivot',\n",
              " 'woodie_s1',\n",
              " 'woodie_r1',\n",
              " 'camarilla_s1',\n",
              " 'camarilla_r1',\n",
              " 'mid_support',\n",
              " 'mid_resistance',\n",
              " 'alt_pivot',\n",
              " 'pivot_ma7',\n",
              " 'pivot_ma21',\n",
              " 'daily_range',\n",
              " 'range_pct',\n",
              " 'HA_Close',\n",
              " 'HA_open',\n",
              " 'HA_high',\n",
              " 'HA_low']"
            ]
          },
          "metadata": {},
          "execution_count": 62
        }
      ],
      "source": [
        "df.columns.tolist()"
      ]
    },
    {
      "cell_type": "code",
      "execution_count": 63,
      "metadata": {
        "id": "iM3IB4MCl_0o"
      },
      "outputs": [],
      "source": [
        "df.dropna(inplace=True)"
      ]
    },
    {
      "cell_type": "code",
      "execution_count": 64,
      "metadata": {
        "id": "giwi49D2l_3a"
      },
      "outputs": [],
      "source": [
        "features = [#'open',\n",
        "#  'high',\n",
        "#  'low',\n",
        "#  'close',\n",
        "#  'next_hour_Close',\n",
        "#  'target',\n",
        "  # 'ema5',\n",
        "  # 'ema10',\n",
        "#  'upper_shadow',\n",
        "#  'lower_shadow',\n",
        "#  'body',\n",
        "#  'candle_range',\n",
        "  # 'atr',\n",
        "#  'rsi',\n",
        "#  'MACD_12_26_9',\n",
        "  # 'MACDh_12_26_9',\n",
        "#  'MACDs_12_26_9',\n",
        "#  'pivot',\n",
        "#  'support_1',\n",
        "  # 'support_2',\n",
        "  # 'resistance_1',\n",
        "  # 'resistance_2',\n",
        "#  'BBL_20_2.0',\n",
        "#  'BBM_20_2.0',\n",
        "#  'BBU_20_2.0',\n",
        "  # 'BBB_20_2.0',\n",
        "#  'BBP_20_2.0',\n",
        "#  'STOCHk_14_3_3',\n",
        "#  'STOCHd_14_3_3',\n",
        "#  'ADX_14',\n",
        "#  'DMP_14',\n",
        "#  'DMN_14',\n",
        "#  'L14',\n",
        "#  'H14',\n",
        "#  '%K',\n",
        "#  '%D',\n",
        "#  'support_3',\n",
        "#  'resistance_3',\n",
        "#  'fib_236',\n",
        "#  'fib_382',\n",
        "#  'fib_618',\n",
        "   'woodie_pivot',\n",
        "  # 'woodie_s1',\n",
        "  # 'woodie_r1',\n",
        "#  'camarilla_s1',\n",
        "#  'camarilla_r1',\n",
        "#  'mid_support',\n",
        "#  'mid_resistance',\n",
        "#  'alt_pivot',\n",
        "#  'pivot_ma7',\n",
        "#  'pivot_ma21',\n",
        "  # 'daily_range',\n",
        "  # 'range_pct',\n",
        "#  'HA_Close',\n",
        "#  'HA_open',\n",
        "#  'HA_high',\n",
        "#  'HA_low']\n",
        "]\n",
        "target = ['next_hour_Close']\n",
        "\n",
        "# close              0.999833\n",
        "# camarilla_s1       0.999827\n",
        "# camarilla_r1       0.999825\n",
        "# woodie_pivot       0.999824\n",
        "# fib_382            0.999819\n",
        "# pivot              0.999818\n",
        "# woodie_s1          0.999813\n",
        "# support_1          0.999810\n",
        "# woodie_r1          0.999809\n",
        "# resistance_1       0.999804\n",
        "# alt_pivot          0.999803\n",
        "# fib_618            0.999802\n",
        "# low                0.999782\n",
        "# mid_support        0.999779\n",
        "# high               0.999773\n",
        "# mid_resistance     0.999770\n",
        "# support_2          0.999737\n",
        "# resistance_2       0.999722\n",
        "# open               0.999720\n",
        "# ema5               0.999698\n",
        "# support_3          0.999639\n",
        "# resistance_3       0.999621\n",
        "# ema10              0.999494\n",
        "# pivot_ma7          0.999487\n",
        "# ema20              0.999074\n",
        "# L14                0.998902\n",
        "# BBM_20_2.0         0.998797\n",
        "# H14                0.998785\n",
        "# pivot_ma21         0.998697\n",
        "# BBL_20_2.0         0.998270\n",
        "# BBU_20_2.0         0.998088\n",
        "# ema50              0.997838\n",
        "# ema200             0.992243"
      ]
    },
    {
      "cell_type": "code",
      "execution_count": 65,
      "metadata": {
        "id": "MwXx6vWkl_6A"
      },
      "outputs": [],
      "source": [
        "X = df[features].values\n",
        "y = df[target].values.reshape(-1, 1)"
      ]
    },
    {
      "cell_type": "code",
      "execution_count": 66,
      "metadata": {
        "id": "AZ2T66XCmLHp"
      },
      "outputs": [],
      "source": [
        "x_scaler = StandardScaler()\n",
        "y_scaler = StandardScaler()\n",
        "X_scaled = x_scaler.fit_transform(X)\n",
        "y_scaled = y_scaler.fit_transform(y)"
      ]
    },
    {
      "cell_type": "code",
      "execution_count": 67,
      "metadata": {
        "id": "D0MNuncimLKN"
      },
      "outputs": [],
      "source": [
        "Sequence_len = 40\n",
        "\n",
        "def creat_sequences(X,y,sequence_len):\n",
        "  X_seq = []\n",
        "  y_seq = []\n",
        "  for i in range(len(X)-sequence_len):\n",
        "    X_seq.append(X[i:i+sequence_len])\n",
        "    y_seq.append(y[i+sequence_len])\n",
        "  return np.array(X_seq),np.array(y_seq)"
      ]
    },
    {
      "cell_type": "code",
      "execution_count": 68,
      "metadata": {
        "id": "naXX3i0tmLMu"
      },
      "outputs": [],
      "source": [
        "X_final,y_final = creat_sequences(X_scaled,y_scaled,Sequence_len)"
      ]
    },
    {
      "cell_type": "code",
      "execution_count": 69,
      "metadata": {
        "colab": {
          "base_uri": "https://localhost:8080/"
        },
        "id": "1WadozjWmLPN",
        "outputId": "10c5f732-a6b7-4bdb-f3eb-561e3e435065"
      },
      "outputs": [
        {
          "output_type": "stream",
          "name": "stdout",
          "text": [
            "(10599, 40, 1)\n",
            "(10599, 1)\n"
          ]
        }
      ],
      "source": [
        "print(X_final.shape)\n",
        "print(y_final.shape)"
      ]
    },
    {
      "cell_type": "code",
      "execution_count": 70,
      "metadata": {
        "id": "WoAFUMaBmLR5"
      },
      "outputs": [],
      "source": [
        "split_index = int(len(X_final)*0.90)\n",
        "x_train = X_final[:split_index]\n",
        "y_train = y_final[:split_index]\n",
        "x_test = X_final[split_index:]\n",
        "y_test = y_final[split_index:]"
      ]
    },
    {
      "cell_type": "code",
      "execution_count": 71,
      "metadata": {
        "colab": {
          "base_uri": "https://localhost:8080/"
        },
        "id": "LWUFvxail_8x",
        "outputId": "0541c7b9-df3e-4698-93f8-35b540683222"
      },
      "outputs": [
        {
          "output_type": "stream",
          "name": "stdout",
          "text": [
            "(9539, 40, 1)\n",
            "(9539, 1)\n",
            "(1060, 40, 1)\n",
            "(1060, 1)\n"
          ]
        }
      ],
      "source": [
        "print(x_train.shape)\n",
        "print(y_train.shape)\n",
        "print(x_test.shape)\n",
        "print(y_test.shape)"
      ]
    },
    {
      "cell_type": "code",
      "execution_count": 72,
      "metadata": {
        "colab": {
          "base_uri": "https://localhost:8080/",
          "height": 225
        },
        "id": "t_dcCHY7mAD0",
        "outputId": "426df01a-07f4-4eb2-e210-5e667c913170"
      },
      "outputs": [
        {
          "output_type": "display_data",
          "data": {
            "text/plain": [
              "\u001b[1mModel: \"sequential_2\"\u001b[0m\n"
            ],
            "text/html": [
              "<pre style=\"white-space:pre;overflow-x:auto;line-height:normal;font-family:Menlo,'DejaVu Sans Mono',consolas,'Courier New',monospace\"><span style=\"font-weight: bold\">Model: \"sequential_2\"</span>\n",
              "</pre>\n"
            ]
          },
          "metadata": {}
        },
        {
          "output_type": "display_data",
          "data": {
            "text/plain": [
              "┏━━━━━━━━━━━━━━━━━━━━━━━━━━━━━━━━━━━━━━┳━━━━━━━━━━━━━━━━━━━━━━━━━━━━━┳━━━━━━━━━━━━━━━━━┓\n",
              "┃\u001b[1m \u001b[0m\u001b[1mLayer (type)                        \u001b[0m\u001b[1m \u001b[0m┃\u001b[1m \u001b[0m\u001b[1mOutput Shape               \u001b[0m\u001b[1m \u001b[0m┃\u001b[1m \u001b[0m\u001b[1m        Param #\u001b[0m\u001b[1m \u001b[0m┃\n",
              "┡━━━━━━━━━━━━━━━━━━━━━━━━━━━━━━━━━━━━━━╇━━━━━━━━━━━━━━━━━━━━━━━━━━━━━╇━━━━━━━━━━━━━━━━━┩\n",
              "│ lstm_2 (\u001b[38;5;33mLSTM\u001b[0m)                        │ (\u001b[38;5;45mNone\u001b[0m, \u001b[38;5;34m384\u001b[0m)                 │         \u001b[38;5;34m592,896\u001b[0m │\n",
              "├──────────────────────────────────────┼─────────────────────────────┼─────────────────┤\n",
              "│ dense_4 (\u001b[38;5;33mDense\u001b[0m)                      │ (\u001b[38;5;45mNone\u001b[0m, \u001b[38;5;34m48\u001b[0m)                  │          \u001b[38;5;34m18,480\u001b[0m │\n",
              "├──────────────────────────────────────┼─────────────────────────────┼─────────────────┤\n",
              "│ dense_5 (\u001b[38;5;33mDense\u001b[0m)                      │ (\u001b[38;5;45mNone\u001b[0m, \u001b[38;5;34m1\u001b[0m)                   │              \u001b[38;5;34m49\u001b[0m │\n",
              "└──────────────────────────────────────┴─────────────────────────────┴─────────────────┘\n"
            ],
            "text/html": [
              "<pre style=\"white-space:pre;overflow-x:auto;line-height:normal;font-family:Menlo,'DejaVu Sans Mono',consolas,'Courier New',monospace\">┏━━━━━━━━━━━━━━━━━━━━━━━━━━━━━━━━━━━━━━┳━━━━━━━━━━━━━━━━━━━━━━━━━━━━━┳━━━━━━━━━━━━━━━━━┓\n",
              "┃<span style=\"font-weight: bold\"> Layer (type)                         </span>┃<span style=\"font-weight: bold\"> Output Shape                </span>┃<span style=\"font-weight: bold\">         Param # </span>┃\n",
              "┡━━━━━━━━━━━━━━━━━━━━━━━━━━━━━━━━━━━━━━╇━━━━━━━━━━━━━━━━━━━━━━━━━━━━━╇━━━━━━━━━━━━━━━━━┩\n",
              "│ lstm_2 (<span style=\"color: #0087ff; text-decoration-color: #0087ff\">LSTM</span>)                        │ (<span style=\"color: #00d7ff; text-decoration-color: #00d7ff\">None</span>, <span style=\"color: #00af00; text-decoration-color: #00af00\">384</span>)                 │         <span style=\"color: #00af00; text-decoration-color: #00af00\">592,896</span> │\n",
              "├──────────────────────────────────────┼─────────────────────────────┼─────────────────┤\n",
              "│ dense_4 (<span style=\"color: #0087ff; text-decoration-color: #0087ff\">Dense</span>)                      │ (<span style=\"color: #00d7ff; text-decoration-color: #00d7ff\">None</span>, <span style=\"color: #00af00; text-decoration-color: #00af00\">48</span>)                  │          <span style=\"color: #00af00; text-decoration-color: #00af00\">18,480</span> │\n",
              "├──────────────────────────────────────┼─────────────────────────────┼─────────────────┤\n",
              "│ dense_5 (<span style=\"color: #0087ff; text-decoration-color: #0087ff\">Dense</span>)                      │ (<span style=\"color: #00d7ff; text-decoration-color: #00d7ff\">None</span>, <span style=\"color: #00af00; text-decoration-color: #00af00\">1</span>)                   │              <span style=\"color: #00af00; text-decoration-color: #00af00\">49</span> │\n",
              "└──────────────────────────────────────┴─────────────────────────────┴─────────────────┘\n",
              "</pre>\n"
            ]
          },
          "metadata": {}
        },
        {
          "output_type": "display_data",
          "data": {
            "text/plain": [
              "\u001b[1m Total params: \u001b[0m\u001b[38;5;34m611,425\u001b[0m (2.33 MB)\n"
            ],
            "text/html": [
              "<pre style=\"white-space:pre;overflow-x:auto;line-height:normal;font-family:Menlo,'DejaVu Sans Mono',consolas,'Courier New',monospace\"><span style=\"font-weight: bold\"> Total params: </span><span style=\"color: #00af00; text-decoration-color: #00af00\">611,425</span> (2.33 MB)\n",
              "</pre>\n"
            ]
          },
          "metadata": {}
        },
        {
          "output_type": "display_data",
          "data": {
            "text/plain": [
              "\u001b[1m Trainable params: \u001b[0m\u001b[38;5;34m611,425\u001b[0m (2.33 MB)\n"
            ],
            "text/html": [
              "<pre style=\"white-space:pre;overflow-x:auto;line-height:normal;font-family:Menlo,'DejaVu Sans Mono',consolas,'Courier New',monospace\"><span style=\"font-weight: bold\"> Trainable params: </span><span style=\"color: #00af00; text-decoration-color: #00af00\">611,425</span> (2.33 MB)\n",
              "</pre>\n"
            ]
          },
          "metadata": {}
        },
        {
          "output_type": "display_data",
          "data": {
            "text/plain": [
              "\u001b[1m Non-trainable params: \u001b[0m\u001b[38;5;34m0\u001b[0m (0.00 B)\n"
            ],
            "text/html": [
              "<pre style=\"white-space:pre;overflow-x:auto;line-height:normal;font-family:Menlo,'DejaVu Sans Mono',consolas,'Courier New',monospace\"><span style=\"font-weight: bold\"> Non-trainable params: </span><span style=\"color: #00af00; text-decoration-color: #00af00\">0</span> (0.00 B)\n",
              "</pre>\n"
            ]
          },
          "metadata": {}
        }
      ],
      "source": [
        "# [I 2025-03-08 10:42:02,283] Trial 25 finished with value: 0.0008266468066722155 and parameters: {'n_lstm_layers': 1, 'n_dense_layers': 1, 'learning_rate': 0.002241032085627275, 'batch_size': 32, 'lstm_units_0': 384, 'lstm_units_1': 160, 'lstm_units_2': 320, 'lstm_dropout_0': 0.0, 'lstm_dropout_1': 0.5, 'lstm_dropout_2': 0.1, 'lstm_l2_0': 5.549602976953121e-05, 'lstm_l2_1': 8.136400649959104e-05, 'lstm_l2_2': 0.009904854205630113, 'dense_units_0': 48, 'dense_units_1': 256, 'dense_units_2': 112, 'dense_dropout_0': 0.0, 'dense_dropout_1': 0.1, 'dense_dropout_2': 0.2, 'dense_l2_0': 1.0993810979042252e-06, 'dense_l2_1': 0.0002639949450923612, 'dense_l2_2': 5.63058462711279e-05}. Best is trial 25 with value: 0.0008266468066722155.\n",
        "\n",
        "\n",
        "model = Sequential()\n",
        "model.add(Input(shape=(Sequence_len, x_train.shape[2])))\n",
        "model.add(LSTM(384,kernel_regularizer=l2(5.549602976953121e-05)))\n",
        "model.add(Dense(48,kernel_regularizer=l2(1.0993810979042252e-06)))\n",
        "model.add(Dense(1, activation='linear'))\n",
        "\n",
        "\n",
        "model.summary()\n",
        "\n",
        "\n"
      ]
    },
    {
      "cell_type": "code",
      "execution_count": 73,
      "metadata": {
        "colab": {
          "base_uri": "https://localhost:8080/"
        },
        "id": "BjHFZdu7mTHv",
        "outputId": "ce1c2b83-7398-4f36-dd4d-eb3dd0839b4b"
      },
      "outputs": [
        {
          "output_type": "stream",
          "name": "stdout",
          "text": [
            "Epoch 1/200\n",
            "\u001b[1m299/299\u001b[0m \u001b[32m━━━━━━━━━━━━━━━━━━━━\u001b[0m\u001b[37m\u001b[0m \u001b[1m7s\u001b[0m 16ms/step - loss: 0.0189 - mae: 0.0604 - val_loss: 0.0012 - val_mae: 0.0233\n",
            "Epoch 2/200\n",
            "\u001b[1m299/299\u001b[0m \u001b[32m━━━━━━━━━━━━━━━━━━━━\u001b[0m\u001b[37m\u001b[0m \u001b[1m8s\u001b[0m 26ms/step - loss: 0.0013 - mae: 0.0247 - val_loss: 0.0011 - val_mae: 0.0223\n",
            "Epoch 3/200\n",
            "\u001b[1m299/299\u001b[0m \u001b[32m━━━━━━━━━━━━━━━━━━━━\u001b[0m\u001b[37m\u001b[0m \u001b[1m7s\u001b[0m 23ms/step - loss: 0.0012 - mae: 0.0239 - val_loss: 0.0011 - val_mae: 0.0237\n",
            "Epoch 4/200\n",
            "\u001b[1m299/299\u001b[0m \u001b[32m━━━━━━━━━━━━━━━━━━━━\u001b[0m\u001b[37m\u001b[0m \u001b[1m7s\u001b[0m 12ms/step - loss: 0.0012 - mae: 0.0232 - val_loss: 0.0015 - val_mae: 0.0281\n",
            "Epoch 5/200\n",
            "\u001b[1m299/299\u001b[0m \u001b[32m━━━━━━━━━━━━━━━━━━━━\u001b[0m\u001b[37m\u001b[0m \u001b[1m5s\u001b[0m 11ms/step - loss: 0.0013 - mae: 0.0243 - val_loss: 0.0011 - val_mae: 0.0218\n",
            "Epoch 6/200\n",
            "\u001b[1m299/299\u001b[0m \u001b[32m━━━━━━━━━━━━━━━━━━━━\u001b[0m\u001b[37m\u001b[0m \u001b[1m7s\u001b[0m 18ms/step - loss: 0.0012 - mae: 0.0227 - val_loss: 0.0011 - val_mae: 0.0230\n",
            "Epoch 7/200\n",
            "\u001b[1m299/299\u001b[0m \u001b[32m━━━━━━━━━━━━━━━━━━━━\u001b[0m\u001b[37m\u001b[0m \u001b[1m4s\u001b[0m 12ms/step - loss: 0.0011 - mae: 0.0218 - val_loss: 0.0010 - val_mae: 0.0210\n",
            "Epoch 8/200\n",
            "\u001b[1m299/299\u001b[0m \u001b[32m━━━━━━━━━━━━━━━━━━━━\u001b[0m\u001b[37m\u001b[0m \u001b[1m3s\u001b[0m 11ms/step - loss: 0.0010 - mae: 0.0211 - val_loss: 0.0011 - val_mae: 0.0236\n",
            "Epoch 9/200\n",
            "\u001b[1m299/299\u001b[0m \u001b[32m━━━━━━━━━━━━━━━━━━━━\u001b[0m\u001b[37m\u001b[0m \u001b[1m5s\u001b[0m 16ms/step - loss: 0.0011 - mae: 0.0218 - val_loss: 8.8400e-04 - val_mae: 0.0190\n",
            "Epoch 10/200\n",
            "\u001b[1m299/299\u001b[0m \u001b[32m━━━━━━━━━━━━━━━━━━━━\u001b[0m\u001b[37m\u001b[0m \u001b[1m4s\u001b[0m 12ms/step - loss: 9.1533e-04 - mae: 0.0199 - val_loss: 8.4571e-04 - val_mae: 0.0178\n",
            "Epoch 11/200\n",
            "\u001b[1m299/299\u001b[0m \u001b[32m━━━━━━━━━━━━━━━━━━━━\u001b[0m\u001b[37m\u001b[0m \u001b[1m3s\u001b[0m 11ms/step - loss: 0.0010 - mae: 0.0217 - val_loss: 0.0012 - val_mae: 0.0259\n",
            "Epoch 12/200\n",
            "\u001b[1m299/299\u001b[0m \u001b[32m━━━━━━━━━━━━━━━━━━━━\u001b[0m\u001b[37m\u001b[0m \u001b[1m5s\u001b[0m 16ms/step - loss: 0.0010 - mae: 0.0217 - val_loss: 9.2863e-04 - val_mae: 0.0196\n",
            "Epoch 13/200\n",
            "\u001b[1m299/299\u001b[0m \u001b[32m━━━━━━━━━━━━━━━━━━━━\u001b[0m\u001b[37m\u001b[0m \u001b[1m4s\u001b[0m 11ms/step - loss: 0.0010 - mae: 0.0212 - val_loss: 0.0011 - val_mae: 0.0219\n",
            "Epoch 14/200\n",
            "\u001b[1m299/299\u001b[0m \u001b[32m━━━━━━━━━━━━━━━━━━━━\u001b[0m\u001b[37m\u001b[0m \u001b[1m3s\u001b[0m 11ms/step - loss: 0.0011 - mae: 0.0219 - val_loss: 0.0012 - val_mae: 0.0248\n",
            "Epoch 15/200\n",
            "\u001b[1m299/299\u001b[0m \u001b[32m━━━━━━━━━━━━━━━━━━━━\u001b[0m\u001b[37m\u001b[0m \u001b[1m3s\u001b[0m 11ms/step - loss: 0.0011 - mae: 0.0225 - val_loss: 0.0014 - val_mae: 0.0275\n",
            "Epoch 16/200\n",
            "\u001b[1m299/299\u001b[0m \u001b[32m━━━━━━━━━━━━━━━━━━━━\u001b[0m\u001b[37m\u001b[0m \u001b[1m4s\u001b[0m 14ms/step - loss: 0.0011 - mae: 0.0218 - val_loss: 0.0011 - val_mae: 0.0232\n",
            "Epoch 17/200\n",
            "\u001b[1m299/299\u001b[0m \u001b[32m━━━━━━━━━━━━━━━━━━━━\u001b[0m\u001b[37m\u001b[0m \u001b[1m3s\u001b[0m 11ms/step - loss: 0.0011 - mae: 0.0223 - val_loss: 0.0018 - val_mae: 0.0324\n",
            "Epoch 18/200\n",
            "\u001b[1m299/299\u001b[0m \u001b[32m━━━━━━━━━━━━━━━━━━━━\u001b[0m\u001b[37m\u001b[0m \u001b[1m3s\u001b[0m 11ms/step - loss: 0.0012 - mae: 0.0233 - val_loss: 8.2201e-04 - val_mae: 0.0178\n",
            "Epoch 19/200\n",
            "\u001b[1m299/299\u001b[0m \u001b[32m━━━━━━━━━━━━━━━━━━━━\u001b[0m\u001b[37m\u001b[0m \u001b[1m5s\u001b[0m 16ms/step - loss: 9.8356e-04 - mae: 0.0210 - val_loss: 0.0013 - val_mae: 0.0257\n",
            "Epoch 20/200\n",
            "\u001b[1m299/299\u001b[0m \u001b[32m━━━━━━━━━━━━━━━━━━━━\u001b[0m\u001b[37m\u001b[0m \u001b[1m4s\u001b[0m 13ms/step - loss: 0.0010 - mae: 0.0215 - val_loss: 0.0013 - val_mae: 0.0262\n",
            "Epoch 21/200\n",
            "\u001b[1m299/299\u001b[0m \u001b[32m━━━━━━━━━━━━━━━━━━━━\u001b[0m\u001b[37m\u001b[0m \u001b[1m5s\u001b[0m 11ms/step - loss: 9.3849e-04 - mae: 0.0207 - val_loss: 0.0011 - val_mae: 0.0231\n",
            "Epoch 22/200\n",
            "\u001b[1m299/299\u001b[0m \u001b[32m━━━━━━━━━━━━━━━━━━━━\u001b[0m\u001b[37m\u001b[0m \u001b[1m5s\u001b[0m 16ms/step - loss: 8.9547e-04 - mae: 0.0195 - val_loss: 8.1890e-04 - val_mae: 0.0178\n",
            "Epoch 23/200\n",
            "\u001b[1m299/299\u001b[0m \u001b[32m━━━━━━━━━━━━━━━━━━━━\u001b[0m\u001b[37m\u001b[0m \u001b[1m4s\u001b[0m 12ms/step - loss: 0.0010 - mae: 0.0218 - val_loss: 0.0013 - val_mae: 0.0277\n",
            "Epoch 24/200\n",
            "\u001b[1m299/299\u001b[0m \u001b[32m━━━━━━━━━━━━━━━━━━━━\u001b[0m\u001b[37m\u001b[0m \u001b[1m5s\u001b[0m 12ms/step - loss: 9.7241e-04 - mae: 0.0208 - val_loss: 9.8338e-04 - val_mae: 0.0211\n",
            "Epoch 25/200\n",
            "\u001b[1m299/299\u001b[0m \u001b[32m━━━━━━━━━━━━━━━━━━━━\u001b[0m\u001b[37m\u001b[0m \u001b[1m5s\u001b[0m 16ms/step - loss: 0.0011 - mae: 0.0233 - val_loss: 0.0011 - val_mae: 0.0237\n",
            "Epoch 26/200\n",
            "\u001b[1m299/299\u001b[0m \u001b[32m━━━━━━━━━━━━━━━━━━━━\u001b[0m\u001b[37m\u001b[0m \u001b[1m4s\u001b[0m 12ms/step - loss: 9.3713e-04 - mae: 0.0206 - val_loss: 0.0014 - val_mae: 0.0283\n",
            "Epoch 27/200\n",
            "\u001b[1m299/299\u001b[0m \u001b[32m━━━━━━━━━━━━━━━━━━━━\u001b[0m\u001b[37m\u001b[0m \u001b[1m3s\u001b[0m 11ms/step - loss: 9.3212e-04 - mae: 0.0206 - val_loss: 0.0015 - val_mae: 0.0293\n",
            "Epoch 28/200\n",
            "\u001b[1m299/299\u001b[0m \u001b[32m━━━━━━━━━━━━━━━━━━━━\u001b[0m\u001b[37m\u001b[0m \u001b[1m3s\u001b[0m 11ms/step - loss: 0.0010 - mae: 0.0212 - val_loss: 8.5206e-04 - val_mae: 0.0190\n",
            "Epoch 29/200\n",
            "\u001b[1m299/299\u001b[0m \u001b[32m━━━━━━━━━━━━━━━━━━━━\u001b[0m\u001b[37m\u001b[0m \u001b[1m4s\u001b[0m 14ms/step - loss: 8.9883e-04 - mae: 0.0200 - val_loss: 0.0015 - val_mae: 0.0281\n",
            "Epoch 30/200\n",
            "\u001b[1m299/299\u001b[0m \u001b[32m━━━━━━━━━━━━━━━━━━━━\u001b[0m\u001b[37m\u001b[0m \u001b[1m4s\u001b[0m 11ms/step - loss: 0.0010 - mae: 0.0219 - val_loss: 0.0010 - val_mae: 0.0226\n",
            "Epoch 31/200\n",
            "\u001b[1m299/299\u001b[0m \u001b[32m━━━━━━━━━━━━━━━━━━━━\u001b[0m\u001b[37m\u001b[0m \u001b[1m6s\u001b[0m 16ms/step - loss: 9.3306e-04 - mae: 0.0205 - val_loss: 8.6774e-04 - val_mae: 0.0191\n",
            "Epoch 32/200\n",
            "\u001b[1m299/299\u001b[0m \u001b[32m━━━━━━━━━━━━━━━━━━━━\u001b[0m\u001b[37m\u001b[0m \u001b[1m4s\u001b[0m 11ms/step - loss: 9.3064e-04 - mae: 0.0208 - val_loss: 0.0011 - val_mae: 0.0238\n",
            "Epoch 33/200\n",
            "\u001b[1m299/299\u001b[0m \u001b[32m━━━━━━━━━━━━━━━━━━━━\u001b[0m\u001b[37m\u001b[0m \u001b[1m5s\u001b[0m 11ms/step - loss: 9.4605e-04 - mae: 0.0208 - val_loss: 8.2833e-04 - val_mae: 0.0186\n",
            "Epoch 34/200\n",
            "\u001b[1m299/299\u001b[0m \u001b[32m━━━━━━━━━━━━━━━━━━━━\u001b[0m\u001b[37m\u001b[0m \u001b[1m4s\u001b[0m 13ms/step - loss: 9.0659e-04 - mae: 0.0200 - val_loss: 0.0011 - val_mae: 0.0256\n",
            "Epoch 35/200\n",
            "\u001b[1m299/299\u001b[0m \u001b[32m━━━━━━━━━━━━━━━━━━━━\u001b[0m\u001b[37m\u001b[0m \u001b[1m5s\u001b[0m 11ms/step - loss: 9.9789e-04 - mae: 0.0216 - val_loss: 0.0010 - val_mae: 0.0223\n",
            "Epoch 36/200\n",
            "\u001b[1m299/299\u001b[0m \u001b[32m━━━━━━━━━━━━━━━━━━━━\u001b[0m\u001b[37m\u001b[0m \u001b[1m3s\u001b[0m 11ms/step - loss: 8.9088e-04 - mae: 0.0199 - val_loss: 0.0010 - val_mae: 0.0221\n",
            "Epoch 37/200\n",
            "\u001b[1m299/299\u001b[0m \u001b[32m━━━━━━━━━━━━━━━━━━━━\u001b[0m\u001b[37m\u001b[0m \u001b[1m7s\u001b[0m 17ms/step - loss: 9.6169e-04 - mae: 0.0215 - val_loss: 8.7430e-04 - val_mae: 0.0201\n",
            "Epoch 38/200\n",
            "\u001b[1m299/299\u001b[0m \u001b[32m━━━━━━━━━━━━━━━━━━━━\u001b[0m\u001b[37m\u001b[0m \u001b[1m3s\u001b[0m 12ms/step - loss: 8.9857e-04 - mae: 0.0204 - val_loss: 8.2883e-04 - val_mae: 0.0186\n",
            "Epoch 39/200\n",
            "\u001b[1m299/299\u001b[0m \u001b[32m━━━━━━━━━━━━━━━━━━━━\u001b[0m\u001b[37m\u001b[0m \u001b[1m5s\u001b[0m 12ms/step - loss: 9.2565e-04 - mae: 0.0205 - val_loss: 9.7510e-04 - val_mae: 0.0218\n",
            "Epoch 40/200\n",
            "\u001b[1m299/299\u001b[0m \u001b[32m━━━━━━━━━━━━━━━━━━━━\u001b[0m\u001b[37m\u001b[0m \u001b[1m5s\u001b[0m 12ms/step - loss: 8.7955e-04 - mae: 0.0202 - val_loss: 9.0161e-04 - val_mae: 0.0205\n",
            "Epoch 41/200\n",
            "\u001b[1m299/299\u001b[0m \u001b[32m━━━━━━━━━━━━━━━━━━━━\u001b[0m\u001b[37m\u001b[0m \u001b[1m3s\u001b[0m 10ms/step - loss: 9.9798e-04 - mae: 0.0215 - val_loss: 7.7544e-04 - val_mae: 0.0180\n",
            "Epoch 42/200\n",
            "\u001b[1m299/299\u001b[0m \u001b[32m━━━━━━━━━━━━━━━━━━━━\u001b[0m\u001b[37m\u001b[0m \u001b[1m3s\u001b[0m 11ms/step - loss: 8.6294e-04 - mae: 0.0197 - val_loss: 0.0012 - val_mae: 0.0253\n",
            "Epoch 43/200\n",
            "\u001b[1m299/299\u001b[0m \u001b[32m━━━━━━━━━━━━━━━━━━━━\u001b[0m\u001b[37m\u001b[0m \u001b[1m6s\u001b[0m 14ms/step - loss: 9.1175e-04 - mae: 0.0204 - val_loss: 8.7909e-04 - val_mae: 0.0208\n",
            "Epoch 44/200\n",
            "\u001b[1m299/299\u001b[0m \u001b[32m━━━━━━━━━━━━━━━━━━━━\u001b[0m\u001b[37m\u001b[0m \u001b[1m4s\u001b[0m 11ms/step - loss: 9.3334e-04 - mae: 0.0210 - val_loss: 8.5025e-04 - val_mae: 0.0195\n",
            "Epoch 45/200\n",
            "\u001b[1m299/299\u001b[0m \u001b[32m━━━━━━━━━━━━━━━━━━━━\u001b[0m\u001b[37m\u001b[0m \u001b[1m5s\u001b[0m 11ms/step - loss: 8.7421e-04 - mae: 0.0196 - val_loss: 7.8683e-04 - val_mae: 0.0181\n",
            "Epoch 46/200\n",
            "\u001b[1m299/299\u001b[0m \u001b[32m━━━━━━━━━━━━━━━━━━━━\u001b[0m\u001b[37m\u001b[0m \u001b[1m5s\u001b[0m 12ms/step - loss: 8.6833e-04 - mae: 0.0197 - val_loss: 8.2611e-04 - val_mae: 0.0189\n",
            "Epoch 47/200\n",
            "\u001b[1m299/299\u001b[0m \u001b[32m━━━━━━━━━━━━━━━━━━━━\u001b[0m\u001b[37m\u001b[0m \u001b[1m3s\u001b[0m 11ms/step - loss: 9.6773e-04 - mae: 0.0217 - val_loss: 8.0648e-04 - val_mae: 0.0186\n",
            "Epoch 48/200\n",
            "\u001b[1m299/299\u001b[0m \u001b[32m━━━━━━━━━━━━━━━━━━━━\u001b[0m\u001b[37m\u001b[0m \u001b[1m3s\u001b[0m 11ms/step - loss: 9.2050e-04 - mae: 0.0207 - val_loss: 8.5942e-04 - val_mae: 0.0202\n",
            "Epoch 49/200\n",
            "\u001b[1m299/299\u001b[0m \u001b[32m━━━━━━━━━━━━━━━━━━━━\u001b[0m\u001b[37m\u001b[0m \u001b[1m4s\u001b[0m 14ms/step - loss: 9.1067e-04 - mae: 0.0204 - val_loss: 9.6128e-04 - val_mae: 0.0217\n",
            "Epoch 50/200\n",
            "\u001b[1m299/299\u001b[0m \u001b[32m━━━━━━━━━━━━━━━━━━━━\u001b[0m\u001b[37m\u001b[0m \u001b[1m3s\u001b[0m 11ms/step - loss: 8.6075e-04 - mae: 0.0198 - val_loss: 0.0018 - val_mae: 0.0339\n",
            "Epoch 51/200\n",
            "\u001b[1m299/299\u001b[0m \u001b[32m━━━━━━━━━━━━━━━━━━━━\u001b[0m\u001b[37m\u001b[0m \u001b[1m3s\u001b[0m 11ms/step - loss: 0.0010 - mae: 0.0222 - val_loss: 7.8285e-04 - val_mae: 0.0180\n",
            "Epoch 52/200\n",
            "\u001b[1m299/299\u001b[0m \u001b[32m━━━━━━━━━━━━━━━━━━━━\u001b[0m\u001b[37m\u001b[0m \u001b[1m6s\u001b[0m 14ms/step - loss: 8.3913e-04 - mae: 0.0194 - val_loss: 8.2527e-04 - val_mae: 0.0195\n",
            "Epoch 53/200\n",
            "\u001b[1m299/299\u001b[0m \u001b[32m━━━━━━━━━━━━━━━━━━━━\u001b[0m\u001b[37m\u001b[0m \u001b[1m4s\u001b[0m 11ms/step - loss: 9.4884e-04 - mae: 0.0211 - val_loss: 8.5074e-04 - val_mae: 0.0196\n",
            "Epoch 54/200\n",
            "\u001b[1m299/299\u001b[0m \u001b[32m━━━━━━━━━━━━━━━━━━━━\u001b[0m\u001b[37m\u001b[0m \u001b[1m3s\u001b[0m 10ms/step - loss: 8.4652e-04 - mae: 0.0197 - val_loss: 9.0312e-04 - val_mae: 0.0207\n",
            "Epoch 55/200\n",
            "\u001b[1m299/299\u001b[0m \u001b[32m━━━━━━━━━━━━━━━━━━━━\u001b[0m\u001b[37m\u001b[0m \u001b[1m3s\u001b[0m 11ms/step - loss: 9.4795e-04 - mae: 0.0209 - val_loss: 9.5654e-04 - val_mae: 0.0222\n",
            "Epoch 56/200\n",
            "\u001b[1m299/299\u001b[0m \u001b[32m━━━━━━━━━━━━━━━━━━━━\u001b[0m\u001b[37m\u001b[0m \u001b[1m5s\u001b[0m 12ms/step - loss: 8.6321e-04 - mae: 0.0200 - val_loss: 0.0013 - val_mae: 0.0277\n",
            "Epoch 57/200\n",
            "\u001b[1m299/299\u001b[0m \u001b[32m━━━━━━━━━━━━━━━━━━━━\u001b[0m\u001b[37m\u001b[0m \u001b[1m5s\u001b[0m 11ms/step - loss: 9.0169e-04 - mae: 0.0206 - val_loss: 8.0991e-04 - val_mae: 0.0186\n",
            "Epoch 58/200\n",
            "\u001b[1m299/299\u001b[0m \u001b[32m━━━━━━━━━━━━━━━━━━━━\u001b[0m\u001b[37m\u001b[0m \u001b[1m5s\u001b[0m 16ms/step - loss: 8.9958e-04 - mae: 0.0207 - val_loss: 7.7728e-04 - val_mae: 0.0182\n",
            "Epoch 59/200\n",
            "\u001b[1m299/299\u001b[0m \u001b[32m━━━━━━━━━━━━━━━━━━━━\u001b[0m\u001b[37m\u001b[0m \u001b[1m3s\u001b[0m 12ms/step - loss: 8.3335e-04 - mae: 0.0192 - val_loss: 0.0012 - val_mae: 0.0253\n",
            "Epoch 60/200\n",
            "\u001b[1m299/299\u001b[0m \u001b[32m━━━━━━━━━━━━━━━━━━━━\u001b[0m\u001b[37m\u001b[0m \u001b[1m3s\u001b[0m 11ms/step - loss: 8.5014e-04 - mae: 0.0199 - val_loss: 7.9606e-04 - val_mae: 0.0184\n",
            "Epoch 61/200\n",
            "\u001b[1m299/299\u001b[0m \u001b[32m━━━━━━━━━━━━━━━━━━━━\u001b[0m\u001b[37m\u001b[0m \u001b[1m3s\u001b[0m 11ms/step - loss: 8.6125e-04 - mae: 0.0196 - val_loss: 9.9329e-04 - val_mae: 0.0232\n",
            "Epoch 62/200\n",
            "\u001b[1m299/299\u001b[0m \u001b[32m━━━━━━━━━━━━━━━━━━━━\u001b[0m\u001b[37m\u001b[0m \u001b[1m5s\u001b[0m 12ms/step - loss: 8.0428e-04 - mae: 0.0191 - val_loss: 7.5731e-04 - val_mae: 0.0177\n",
            "Epoch 63/200\n",
            "\u001b[1m299/299\u001b[0m \u001b[32m━━━━━━━━━━━━━━━━━━━━\u001b[0m\u001b[37m\u001b[0m \u001b[1m5s\u001b[0m 11ms/step - loss: 8.3648e-04 - mae: 0.0191 - val_loss: 8.1138e-04 - val_mae: 0.0190\n",
            "Epoch 64/200\n",
            "\u001b[1m299/299\u001b[0m \u001b[32m━━━━━━━━━━━━━━━━━━━━\u001b[0m\u001b[37m\u001b[0m \u001b[1m6s\u001b[0m 14ms/step - loss: 8.8702e-04 - mae: 0.0204 - val_loss: 8.4868e-04 - val_mae: 0.0201\n",
            "Epoch 65/200\n",
            "\u001b[1m299/299\u001b[0m \u001b[32m━━━━━━━━━━━━━━━━━━━━\u001b[0m\u001b[37m\u001b[0m \u001b[1m3s\u001b[0m 11ms/step - loss: 8.1518e-04 - mae: 0.0193 - val_loss: 8.8807e-04 - val_mae: 0.0211\n",
            "Epoch 66/200\n",
            "\u001b[1m299/299\u001b[0m \u001b[32m━━━━━━━━━━━━━━━━━━━━\u001b[0m\u001b[37m\u001b[0m \u001b[1m3s\u001b[0m 11ms/step - loss: 8.6141e-04 - mae: 0.0200 - val_loss: 0.0011 - val_mae: 0.0246\n",
            "Epoch 67/200\n",
            "\u001b[1m299/299\u001b[0m \u001b[32m━━━━━━━━━━━━━━━━━━━━\u001b[0m\u001b[37m\u001b[0m \u001b[1m7s\u001b[0m 17ms/step - loss: 8.1968e-04 - mae: 0.0194 - val_loss: 7.9306e-04 - val_mae: 0.0190\n",
            "Epoch 68/200\n",
            "\u001b[1m299/299\u001b[0m \u001b[32m━━━━━━━━━━━━━━━━━━━━\u001b[0m\u001b[37m\u001b[0m \u001b[1m3s\u001b[0m 11ms/step - loss: 8.5870e-04 - mae: 0.0199 - val_loss: 8.9073e-04 - val_mae: 0.0207\n",
            "Epoch 69/200\n",
            "\u001b[1m299/299\u001b[0m \u001b[32m━━━━━━━━━━━━━━━━━━━━\u001b[0m\u001b[37m\u001b[0m \u001b[1m5s\u001b[0m 12ms/step - loss: 8.5302e-04 - mae: 0.0199 - val_loss: 0.0012 - val_mae: 0.0265\n",
            "Epoch 70/200\n",
            "\u001b[1m299/299\u001b[0m \u001b[32m━━━━━━━━━━━━━━━━━━━━\u001b[0m\u001b[37m\u001b[0m \u001b[1m4s\u001b[0m 14ms/step - loss: 9.3460e-04 - mae: 0.0213 - val_loss: 8.8318e-04 - val_mae: 0.0201\n",
            "Epoch 71/200\n",
            "\u001b[1m299/299\u001b[0m \u001b[32m━━━━━━━━━━━━━━━━━━━━\u001b[0m\u001b[37m\u001b[0m \u001b[1m4s\u001b[0m 11ms/step - loss: 9.2877e-04 - mae: 0.0210 - val_loss: 0.0012 - val_mae: 0.0246\n",
            "Epoch 72/200\n",
            "\u001b[1m299/299\u001b[0m \u001b[32m━━━━━━━━━━━━━━━━━━━━\u001b[0m\u001b[37m\u001b[0m \u001b[1m3s\u001b[0m 11ms/step - loss: 8.6811e-04 - mae: 0.0203 - val_loss: 0.0011 - val_mae: 0.0232\n",
            "Epoch 73/200\n",
            "\u001b[1m299/299\u001b[0m \u001b[32m━━━━━━━━━━━━━━━━━━━━\u001b[0m\u001b[37m\u001b[0m \u001b[1m5s\u001b[0m 16ms/step - loss: 9.3472e-04 - mae: 0.0209 - val_loss: 8.6536e-04 - val_mae: 0.0201\n",
            "Epoch 74/200\n",
            "\u001b[1m299/299\u001b[0m \u001b[32m━━━━━━━━━━━━━━━━━━━━\u001b[0m\u001b[37m\u001b[0m \u001b[1m4s\u001b[0m 12ms/step - loss: 8.9594e-04 - mae: 0.0203 - val_loss: 9.4511e-04 - val_mae: 0.0216\n",
            "Epoch 75/200\n",
            "\u001b[1m299/299\u001b[0m \u001b[32m━━━━━━━━━━━━━━━━━━━━\u001b[0m\u001b[37m\u001b[0m \u001b[1m3s\u001b[0m 11ms/step - loss: 8.3466e-04 - mae: 0.0197 - val_loss: 7.6292e-04 - val_mae: 0.0179\n",
            "Epoch 76/200\n",
            "\u001b[1m299/299\u001b[0m \u001b[32m━━━━━━━━━━━━━━━━━━━━\u001b[0m\u001b[37m\u001b[0m \u001b[1m3s\u001b[0m 11ms/step - loss: 8.4342e-04 - mae: 0.0193 - val_loss: 8.0132e-04 - val_mae: 0.0185\n",
            "Epoch 77/200\n",
            "\u001b[1m299/299\u001b[0m \u001b[32m━━━━━━━━━━━━━━━━━━━━\u001b[0m\u001b[37m\u001b[0m \u001b[1m5s\u001b[0m 17ms/step - loss: 9.1948e-04 - mae: 0.0208 - val_loss: 0.0011 - val_mae: 0.0246\n",
            "Epoch 78/200\n",
            "\u001b[1m299/299\u001b[0m \u001b[32m━━━━━━━━━━━━━━━━━━━━\u001b[0m\u001b[37m\u001b[0m \u001b[1m8s\u001b[0m 11ms/step - loss: 8.8610e-04 - mae: 0.0203 - val_loss: 9.5602e-04 - val_mae: 0.0213\n",
            "Epoch 79/200\n",
            "\u001b[1m299/299\u001b[0m \u001b[32m━━━━━━━━━━━━━━━━━━━━\u001b[0m\u001b[37m\u001b[0m \u001b[1m5s\u001b[0m 18ms/step - loss: 8.6355e-04 - mae: 0.0200 - val_loss: 8.6236e-04 - val_mae: 0.0202\n",
            "Epoch 80/200\n",
            "\u001b[1m299/299\u001b[0m \u001b[32m━━━━━━━━━━━━━━━━━━━━\u001b[0m\u001b[37m\u001b[0m \u001b[1m3s\u001b[0m 12ms/step - loss: 8.7733e-04 - mae: 0.0198 - val_loss: 0.0012 - val_mae: 0.0266\n",
            "Epoch 81/200\n",
            "\u001b[1m299/299\u001b[0m \u001b[32m━━━━━━━━━━━━━━━━━━━━\u001b[0m\u001b[37m\u001b[0m \u001b[1m3s\u001b[0m 11ms/step - loss: 9.1370e-04 - mae: 0.0207 - val_loss: 8.0172e-04 - val_mae: 0.0192\n",
            "Epoch 82/200\n",
            "\u001b[1m299/299\u001b[0m \u001b[32m━━━━━━━━━━━━━━━━━━━━\u001b[0m\u001b[37m\u001b[0m \u001b[1m5s\u001b[0m 17ms/step - loss: 8.8047e-04 - mae: 0.0201 - val_loss: 8.0587e-04 - val_mae: 0.0187\n",
            "Epoch 83/200\n",
            "\u001b[1m299/299\u001b[0m \u001b[32m━━━━━━━━━━━━━━━━━━━━\u001b[0m\u001b[37m\u001b[0m \u001b[1m3s\u001b[0m 11ms/step - loss: 8.3351e-04 - mae: 0.0192 - val_loss: 7.5559e-04 - val_mae: 0.0180\n",
            "Epoch 84/200\n",
            "\u001b[1m299/299\u001b[0m \u001b[32m━━━━━━━━━━━━━━━━━━━━\u001b[0m\u001b[37m\u001b[0m \u001b[1m3s\u001b[0m 12ms/step - loss: 8.8005e-04 - mae: 0.0200 - val_loss: 9.4035e-04 - val_mae: 0.0223\n",
            "Epoch 85/200\n",
            "\u001b[1m299/299\u001b[0m \u001b[32m━━━━━━━━━━━━━━━━━━━━\u001b[0m\u001b[37m\u001b[0m \u001b[1m7s\u001b[0m 17ms/step - loss: 8.8566e-04 - mae: 0.0205 - val_loss: 8.7465e-04 - val_mae: 0.0204\n",
            "Epoch 86/200\n",
            "\u001b[1m299/299\u001b[0m \u001b[32m━━━━━━━━━━━━━━━━━━━━\u001b[0m\u001b[37m\u001b[0m \u001b[1m8s\u001b[0m 11ms/step - loss: 8.0189e-04 - mae: 0.0193 - val_loss: 9.6301e-04 - val_mae: 0.0218\n",
            "Epoch 87/200\n",
            "\u001b[1m299/299\u001b[0m \u001b[32m━━━━━━━━━━━━━━━━━━━━\u001b[0m\u001b[37m\u001b[0m \u001b[1m6s\u001b[0m 13ms/step - loss: 8.5084e-04 - mae: 0.0197 - val_loss: 7.8493e-04 - val_mae: 0.0186\n",
            "Epoch 88/200\n",
            "\u001b[1m299/299\u001b[0m \u001b[32m━━━━━━━━━━━━━━━━━━━━\u001b[0m\u001b[37m\u001b[0m \u001b[1m5s\u001b[0m 11ms/step - loss: 8.8286e-04 - mae: 0.0203 - val_loss: 9.8206e-04 - val_mae: 0.0224\n",
            "Epoch 89/200\n",
            "\u001b[1m299/299\u001b[0m \u001b[32m━━━━━━━━━━━━━━━━━━━━\u001b[0m\u001b[37m\u001b[0m \u001b[1m7s\u001b[0m 16ms/step - loss: 8.3140e-04 - mae: 0.0194 - val_loss: 8.1669e-04 - val_mae: 0.0192\n",
            "Epoch 90/200\n",
            "\u001b[1m299/299\u001b[0m \u001b[32m━━━━━━━━━━━━━━━━━━━━\u001b[0m\u001b[37m\u001b[0m \u001b[1m4s\u001b[0m 12ms/step - loss: 8.7698e-04 - mae: 0.0198 - val_loss: 7.9151e-04 - val_mae: 0.0184\n",
            "Epoch 91/200\n",
            "\u001b[1m299/299\u001b[0m \u001b[32m━━━━━━━━━━━━━━━━━━━━\u001b[0m\u001b[37m\u001b[0m \u001b[1m5s\u001b[0m 12ms/step - loss: 8.2893e-04 - mae: 0.0194 - val_loss: 0.0031 - val_mae: 0.0425\n",
            "Epoch 92/200\n",
            "\u001b[1m299/299\u001b[0m \u001b[32m━━━━━━━━━━━━━━━━━━━━\u001b[0m\u001b[37m\u001b[0m \u001b[1m6s\u001b[0m 15ms/step - loss: 0.0012 - mae: 0.0235 - val_loss: 8.1728e-04 - val_mae: 0.0193\n",
            "Epoch 93/200\n",
            "\u001b[1m299/299\u001b[0m \u001b[32m━━━━━━━━━━━━━━━━━━━━\u001b[0m\u001b[37m\u001b[0m \u001b[1m4s\u001b[0m 11ms/step - loss: 8.6549e-04 - mae: 0.0197 - val_loss: 7.6938e-04 - val_mae: 0.0185\n",
            "Epoch 94/200\n",
            "\u001b[1m299/299\u001b[0m \u001b[32m━━━━━━━━━━━━━━━━━━━━\u001b[0m\u001b[37m\u001b[0m \u001b[1m5s\u001b[0m 12ms/step - loss: 8.1359e-04 - mae: 0.0193 - val_loss: 0.0015 - val_mae: 0.0290\n",
            "Epoch 95/200\n",
            "\u001b[1m299/299\u001b[0m \u001b[32m━━━━━━━━━━━━━━━━━━━━\u001b[0m\u001b[37m\u001b[0m \u001b[1m4s\u001b[0m 14ms/step - loss: 8.0724e-04 - mae: 0.0194 - val_loss: 9.5282e-04 - val_mae: 0.0218\n",
            "Epoch 96/200\n",
            "\u001b[1m299/299\u001b[0m \u001b[32m━━━━━━━━━━━━━━━━━━━━\u001b[0m\u001b[37m\u001b[0m \u001b[1m3s\u001b[0m 11ms/step - loss: 8.0979e-04 - mae: 0.0197 - val_loss: 8.1675e-04 - val_mae: 0.0197\n",
            "Epoch 97/200\n",
            "\u001b[1m299/299\u001b[0m \u001b[32m━━━━━━━━━━━━━━━━━━━━\u001b[0m\u001b[37m\u001b[0m \u001b[1m5s\u001b[0m 11ms/step - loss: 9.0209e-04 - mae: 0.0207 - val_loss: 7.9687e-04 - val_mae: 0.0189\n",
            "Epoch 98/200\n",
            "\u001b[1m299/299\u001b[0m \u001b[32m━━━━━━━━━━━━━━━━━━━━\u001b[0m\u001b[37m\u001b[0m \u001b[1m4s\u001b[0m 14ms/step - loss: 8.7155e-04 - mae: 0.0197 - val_loss: 7.5632e-04 - val_mae: 0.0179\n",
            "Epoch 99/200\n",
            "\u001b[1m299/299\u001b[0m \u001b[32m━━━━━━━━━━━━━━━━━━━━\u001b[0m\u001b[37m\u001b[0m \u001b[1m4s\u001b[0m 11ms/step - loss: 8.8644e-04 - mae: 0.0201 - val_loss: 9.1427e-04 - val_mae: 0.0212\n",
            "Epoch 100/200\n",
            "\u001b[1m299/299\u001b[0m \u001b[32m━━━━━━━━━━━━━━━━━━━━\u001b[0m\u001b[37m\u001b[0m \u001b[1m3s\u001b[0m 11ms/step - loss: 8.4550e-04 - mae: 0.0195 - val_loss: 7.5884e-04 - val_mae: 0.0182\n",
            "Epoch 101/200\n",
            "\u001b[1m299/299\u001b[0m \u001b[32m━━━━━━━━━━━━━━━━━━━━\u001b[0m\u001b[37m\u001b[0m \u001b[1m3s\u001b[0m 12ms/step - loss: 8.6166e-04 - mae: 0.0198 - val_loss: 8.0968e-04 - val_mae: 0.0189\n",
            "Epoch 102/200\n",
            "\u001b[1m299/299\u001b[0m \u001b[32m━━━━━━━━━━━━━━━━━━━━\u001b[0m\u001b[37m\u001b[0m \u001b[1m4s\u001b[0m 12ms/step - loss: 8.2102e-04 - mae: 0.0193 - val_loss: 7.8887e-04 - val_mae: 0.0185\n",
            "Epoch 103/200\n",
            "\u001b[1m299/299\u001b[0m \u001b[32m━━━━━━━━━━━━━━━━━━━━\u001b[0m\u001b[37m\u001b[0m \u001b[1m5s\u001b[0m 11ms/step - loss: 8.5410e-04 - mae: 0.0195 - val_loss: 9.8509e-04 - val_mae: 0.0234\n",
            "Epoch 104/200\n",
            "\u001b[1m299/299\u001b[0m \u001b[32m━━━━━━━━━━━━━━━━━━━━\u001b[0m\u001b[37m\u001b[0m \u001b[1m6s\u001b[0m 16ms/step - loss: 8.7902e-04 - mae: 0.0202 - val_loss: 8.0430e-04 - val_mae: 0.0189\n",
            "Epoch 105/200\n",
            "\u001b[1m299/299\u001b[0m \u001b[32m━━━━━━━━━━━━━━━━━━━━\u001b[0m\u001b[37m\u001b[0m \u001b[1m4s\u001b[0m 12ms/step - loss: 8.1259e-04 - mae: 0.0196 - val_loss: 7.7301e-04 - val_mae: 0.0184\n",
            "Epoch 106/200\n",
            "\u001b[1m299/299\u001b[0m \u001b[32m━━━━━━━━━━━━━━━━━━━━\u001b[0m\u001b[37m\u001b[0m \u001b[1m5s\u001b[0m 12ms/step - loss: 8.1187e-04 - mae: 0.0192 - val_loss: 8.0722e-04 - val_mae: 0.0194\n",
            "Epoch 107/200\n",
            "\u001b[1m299/299\u001b[0m \u001b[32m━━━━━━━━━━━━━━━━━━━━\u001b[0m\u001b[37m\u001b[0m \u001b[1m6s\u001b[0m 15ms/step - loss: 8.0753e-04 - mae: 0.0193 - val_loss: 7.7003e-04 - val_mae: 0.0184\n",
            "Epoch 108/200\n",
            "\u001b[1m299/299\u001b[0m \u001b[32m━━━━━━━━━━━━━━━━━━━━\u001b[0m\u001b[37m\u001b[0m \u001b[1m4s\u001b[0m 11ms/step - loss: 8.3581e-04 - mae: 0.0195 - val_loss: 7.9135e-04 - val_mae: 0.0186\n",
            "Epoch 109/200\n",
            "\u001b[1m299/299\u001b[0m \u001b[32m━━━━━━━━━━━━━━━━━━━━\u001b[0m\u001b[37m\u001b[0m \u001b[1m7s\u001b[0m 16ms/step - loss: 8.2355e-04 - mae: 0.0192 - val_loss: 8.1517e-04 - val_mae: 0.0197\n",
            "Epoch 110/200\n",
            "\u001b[1m299/299\u001b[0m \u001b[32m━━━━━━━━━━━━━━━━━━━━\u001b[0m\u001b[37m\u001b[0m \u001b[1m4s\u001b[0m 13ms/step - loss: 8.5056e-04 - mae: 0.0196 - val_loss: 0.0010 - val_mae: 0.0232\n",
            "Epoch 111/200\n",
            "\u001b[1m299/299\u001b[0m \u001b[32m━━━━━━━━━━━━━━━━━━━━\u001b[0m\u001b[37m\u001b[0m \u001b[1m5s\u001b[0m 11ms/step - loss: 8.4462e-04 - mae: 0.0196 - val_loss: 8.0950e-04 - val_mae: 0.0197\n",
            "Epoch 112/200\n",
            "\u001b[1m299/299\u001b[0m \u001b[32m━━━━━━━━━━━━━━━━━━━━\u001b[0m\u001b[37m\u001b[0m \u001b[1m5s\u001b[0m 16ms/step - loss: 8.4609e-04 - mae: 0.0200 - val_loss: 7.5718e-04 - val_mae: 0.0181\n",
            "Epoch 113/200\n",
            "\u001b[1m299/299\u001b[0m \u001b[32m━━━━━━━━━━━━━━━━━━━━\u001b[0m\u001b[37m\u001b[0m \u001b[1m3s\u001b[0m 11ms/step - loss: 8.4642e-04 - mae: 0.0198 - val_loss: 9.6239e-04 - val_mae: 0.0219\n",
            "Epoch 114/200\n",
            "\u001b[1m299/299\u001b[0m \u001b[32m━━━━━━━━━━━━━━━━━━━━\u001b[0m\u001b[37m\u001b[0m \u001b[1m3s\u001b[0m 11ms/step - loss: 8.4138e-04 - mae: 0.0197 - val_loss: 9.9668e-04 - val_mae: 0.0234\n",
            "Epoch 115/200\n",
            "\u001b[1m299/299\u001b[0m \u001b[32m━━━━━━━━━━━━━━━━━━━━\u001b[0m\u001b[37m\u001b[0m \u001b[1m7s\u001b[0m 17ms/step - loss: 8.3261e-04 - mae: 0.0196 - val_loss: 7.6304e-04 - val_mae: 0.0183\n",
            "Epoch 116/200\n",
            "\u001b[1m299/299\u001b[0m \u001b[32m━━━━━━━━━━━━━━━━━━━━\u001b[0m\u001b[37m\u001b[0m \u001b[1m3s\u001b[0m 11ms/step - loss: 7.9928e-04 - mae: 0.0192 - val_loss: 7.6757e-04 - val_mae: 0.0183\n",
            "Epoch 117/200\n",
            "\u001b[1m299/299\u001b[0m \u001b[32m━━━━━━━━━━━━━━━━━━━━\u001b[0m\u001b[37m\u001b[0m \u001b[1m3s\u001b[0m 11ms/step - loss: 7.9646e-04 - mae: 0.0193 - val_loss: 8.2131e-04 - val_mae: 0.0191\n",
            "Epoch 118/200\n",
            "\u001b[1m299/299\u001b[0m \u001b[32m━━━━━━━━━━━━━━━━━━━━\u001b[0m\u001b[37m\u001b[0m \u001b[1m7s\u001b[0m 18ms/step - loss: 7.5847e-04 - mae: 0.0184 - val_loss: 7.5791e-04 - val_mae: 0.0183\n",
            "Epoch 119/200\n",
            "\u001b[1m299/299\u001b[0m \u001b[32m━━━━━━━━━━━━━━━━━━━━\u001b[0m\u001b[37m\u001b[0m \u001b[1m8s\u001b[0m 12ms/step - loss: 8.0608e-04 - mae: 0.0194 - val_loss: 7.4562e-04 - val_mae: 0.0178\n",
            "Epoch 120/200\n",
            "\u001b[1m299/299\u001b[0m \u001b[32m━━━━━━━━━━━━━━━━━━━━\u001b[0m\u001b[37m\u001b[0m \u001b[1m4s\u001b[0m 14ms/step - loss: 8.3114e-04 - mae: 0.0191 - val_loss: 9.1188e-04 - val_mae: 0.0212\n",
            "Epoch 121/200\n",
            "\u001b[1m299/299\u001b[0m \u001b[32m━━━━━━━━━━━━━━━━━━━━\u001b[0m\u001b[37m\u001b[0m \u001b[1m4s\u001b[0m 11ms/step - loss: 9.3264e-04 - mae: 0.0208 - val_loss: 0.0011 - val_mae: 0.0243\n",
            "Epoch 122/200\n",
            "\u001b[1m299/299\u001b[0m \u001b[32m━━━━━━━━━━━━━━━━━━━━\u001b[0m\u001b[37m\u001b[0m \u001b[1m3s\u001b[0m 11ms/step - loss: 8.2743e-04 - mae: 0.0193 - val_loss: 7.5246e-04 - val_mae: 0.0181\n",
            "Epoch 123/200\n",
            "\u001b[1m299/299\u001b[0m \u001b[32m━━━━━━━━━━━━━━━━━━━━\u001b[0m\u001b[37m\u001b[0m \u001b[1m4s\u001b[0m 12ms/step - loss: 7.8822e-04 - mae: 0.0187 - val_loss: 0.0014 - val_mae: 0.0287\n",
            "Epoch 124/200\n",
            "\u001b[1m299/299\u001b[0m \u001b[32m━━━━━━━━━━━━━━━━━━━━\u001b[0m\u001b[37m\u001b[0m \u001b[1m4s\u001b[0m 14ms/step - loss: 9.0156e-04 - mae: 0.0205 - val_loss: 9.5425e-04 - val_mae: 0.0226\n",
            "Epoch 125/200\n",
            "\u001b[1m299/299\u001b[0m \u001b[32m━━━━━━━━━━━━━━━━━━━━\u001b[0m\u001b[37m\u001b[0m \u001b[1m3s\u001b[0m 11ms/step - loss: 8.4996e-04 - mae: 0.0196 - val_loss: 7.6315e-04 - val_mae: 0.0185\n",
            "Epoch 126/200\n",
            "\u001b[1m299/299\u001b[0m \u001b[32m━━━━━━━━━━━━━━━━━━━━\u001b[0m\u001b[37m\u001b[0m \u001b[1m3s\u001b[0m 11ms/step - loss: 8.3932e-04 - mae: 0.0197 - val_loss: 7.4511e-04 - val_mae: 0.0177\n",
            "Epoch 127/200\n",
            "\u001b[1m299/299\u001b[0m \u001b[32m━━━━━━━━━━━━━━━━━━━━\u001b[0m\u001b[37m\u001b[0m \u001b[1m4s\u001b[0m 13ms/step - loss: 8.0423e-04 - mae: 0.0190 - val_loss: 7.4333e-04 - val_mae: 0.0177\n",
            "Epoch 128/200\n",
            "\u001b[1m299/299\u001b[0m \u001b[32m━━━━━━━━━━━━━━━━━━━━\u001b[0m\u001b[37m\u001b[0m \u001b[1m5s\u001b[0m 12ms/step - loss: 7.7971e-04 - mae: 0.0187 - val_loss: 8.7493e-04 - val_mae: 0.0203\n",
            "Epoch 129/200\n",
            "\u001b[1m299/299\u001b[0m \u001b[32m━━━━━━━━━━━━━━━━━━━━\u001b[0m\u001b[37m\u001b[0m \u001b[1m3s\u001b[0m 11ms/step - loss: 8.6154e-04 - mae: 0.0197 - val_loss: 8.5822e-04 - val_mae: 0.0202\n",
            "Epoch 130/200\n",
            "\u001b[1m299/299\u001b[0m \u001b[32m━━━━━━━━━━━━━━━━━━━━\u001b[0m\u001b[37m\u001b[0m \u001b[1m5s\u001b[0m 16ms/step - loss: 8.1138e-04 - mae: 0.0191 - val_loss: 8.8219e-04 - val_mae: 0.0204\n",
            "Epoch 131/200\n",
            "\u001b[1m299/299\u001b[0m \u001b[32m━━━━━━━━━━━━━━━━━━━━\u001b[0m\u001b[37m\u001b[0m \u001b[1m4s\u001b[0m 13ms/step - loss: 8.2147e-04 - mae: 0.0196 - val_loss: 8.1984e-04 - val_mae: 0.0195\n",
            "Epoch 132/200\n",
            "\u001b[1m299/299\u001b[0m \u001b[32m━━━━━━━━━━━━━━━━━━━━\u001b[0m\u001b[37m\u001b[0m \u001b[1m3s\u001b[0m 11ms/step - loss: 8.2617e-04 - mae: 0.0195 - val_loss: 9.6875e-04 - val_mae: 0.0220\n",
            "Epoch 133/200\n",
            "\u001b[1m299/299\u001b[0m \u001b[32m━━━━━━━━━━━━━━━━━━━━\u001b[0m\u001b[37m\u001b[0m \u001b[1m3s\u001b[0m 11ms/step - loss: 8.0115e-04 - mae: 0.0191 - val_loss: 7.5233e-04 - val_mae: 0.0181\n",
            "Epoch 134/200\n",
            "\u001b[1m299/299\u001b[0m \u001b[32m━━━━━━━━━━━━━━━━━━━━\u001b[0m\u001b[37m\u001b[0m \u001b[1m4s\u001b[0m 15ms/step - loss: 7.9594e-04 - mae: 0.0192 - val_loss: 9.0646e-04 - val_mae: 0.0209\n",
            "Epoch 135/200\n",
            "\u001b[1m299/299\u001b[0m \u001b[32m━━━━━━━━━━━━━━━━━━━━\u001b[0m\u001b[37m\u001b[0m \u001b[1m4s\u001b[0m 12ms/step - loss: 8.6981e-04 - mae: 0.0205 - val_loss: 0.0014 - val_mae: 0.0275\n",
            "Epoch 136/200\n",
            "\u001b[1m299/299\u001b[0m \u001b[32m━━━━━━━━━━━━━━━━━━━━\u001b[0m\u001b[37m\u001b[0m \u001b[1m5s\u001b[0m 12ms/step - loss: 8.5019e-04 - mae: 0.0201 - val_loss: 7.7858e-04 - val_mae: 0.0184\n",
            "Epoch 137/200\n",
            "\u001b[1m299/299\u001b[0m \u001b[32m━━━━━━━━━━━━━━━━━━━━\u001b[0m\u001b[37m\u001b[0m \u001b[1m5s\u001b[0m 12ms/step - loss: 8.3028e-04 - mae: 0.0201 - val_loss: 7.5975e-04 - val_mae: 0.0181\n",
            "Epoch 138/200\n",
            "\u001b[1m299/299\u001b[0m \u001b[32m━━━━━━━━━━━━━━━━━━━━\u001b[0m\u001b[37m\u001b[0m \u001b[1m3s\u001b[0m 11ms/step - loss: 8.5055e-04 - mae: 0.0201 - val_loss: 7.6541e-04 - val_mae: 0.0184\n",
            "Epoch 139/200\n",
            "\u001b[1m299/299\u001b[0m \u001b[32m━━━━━━━━━━━━━━━━━━━━\u001b[0m\u001b[37m\u001b[0m \u001b[1m7s\u001b[0m 16ms/step - loss: 7.9495e-04 - mae: 0.0188 - val_loss: 7.8691e-04 - val_mae: 0.0187\n",
            "Epoch 140/200\n",
            "\u001b[1m299/299\u001b[0m \u001b[32m━━━━━━━━━━━━━━━━━━━━\u001b[0m\u001b[37m\u001b[0m \u001b[1m4s\u001b[0m 13ms/step - loss: 7.9384e-04 - mae: 0.0191 - val_loss: 0.0011 - val_mae: 0.0242\n",
            "Epoch 141/200\n",
            "\u001b[1m299/299\u001b[0m \u001b[32m━━━━━━━━━━━━━━━━━━━━\u001b[0m\u001b[37m\u001b[0m \u001b[1m3s\u001b[0m 11ms/step - loss: 8.2206e-04 - mae: 0.0195 - val_loss: 0.0010 - val_mae: 0.0243\n",
            "Epoch 142/200\n",
            "\u001b[1m299/299\u001b[0m \u001b[32m━━━━━━━━━━━━━━━━━━━━\u001b[0m\u001b[37m\u001b[0m \u001b[1m3s\u001b[0m 11ms/step - loss: 8.6863e-04 - mae: 0.0203 - val_loss: 9.6379e-04 - val_mae: 0.0221\n",
            "Epoch 143/200\n",
            "\u001b[1m299/299\u001b[0m \u001b[32m━━━━━━━━━━━━━━━━━━━━\u001b[0m\u001b[37m\u001b[0m \u001b[1m6s\u001b[0m 19ms/step - loss: 8.7787e-04 - mae: 0.0204 - val_loss: 9.4749e-04 - val_mae: 0.0219\n",
            "Epoch 144/200\n",
            "\u001b[1m299/299\u001b[0m \u001b[32m━━━━━━━━━━━━━━━━━━━━\u001b[0m\u001b[37m\u001b[0m \u001b[1m8s\u001b[0m 11ms/step - loss: 8.1327e-04 - mae: 0.0193 - val_loss: 9.1339e-04 - val_mae: 0.0213\n",
            "Epoch 145/200\n",
            "\u001b[1m299/299\u001b[0m \u001b[32m━━━━━━━━━━━━━━━━━━━━\u001b[0m\u001b[37m\u001b[0m \u001b[1m4s\u001b[0m 14ms/step - loss: 8.1737e-04 - mae: 0.0190 - val_loss: 0.0010 - val_mae: 0.0239\n",
            "Epoch 146/200\n",
            "\u001b[1m299/299\u001b[0m \u001b[32m━━━━━━━━━━━━━━━━━━━━\u001b[0m\u001b[37m\u001b[0m \u001b[1m4s\u001b[0m 12ms/step - loss: 8.2912e-04 - mae: 0.0196 - val_loss: 8.6174e-04 - val_mae: 0.0204\n",
            "Epoch 147/200\n",
            "\u001b[1m299/299\u001b[0m \u001b[32m━━━━━━━━━━━━━━━━━━━━\u001b[0m\u001b[37m\u001b[0m \u001b[1m5s\u001b[0m 11ms/step - loss: 8.1228e-04 - mae: 0.0193 - val_loss: 7.8572e-04 - val_mae: 0.0186\n",
            "Epoch 148/200\n",
            "\u001b[1m299/299\u001b[0m \u001b[32m━━━━━━━━━━━━━━━━━━━━\u001b[0m\u001b[37m\u001b[0m \u001b[1m6s\u001b[0m 14ms/step - loss: 8.1564e-04 - mae: 0.0192 - val_loss: 8.1978e-04 - val_mae: 0.0200\n",
            "Epoch 149/200\n",
            "\u001b[1m299/299\u001b[0m \u001b[32m━━━━━━━━━━━━━━━━━━━━\u001b[0m\u001b[37m\u001b[0m \u001b[1m4s\u001b[0m 11ms/step - loss: 8.1165e-04 - mae: 0.0191 - val_loss: 7.4330e-04 - val_mae: 0.0177\n",
            "Epoch 150/200\n",
            "\u001b[1m299/299\u001b[0m \u001b[32m━━━━━━━━━━━━━━━━━━━━\u001b[0m\u001b[37m\u001b[0m \u001b[1m5s\u001b[0m 12ms/step - loss: 8.5361e-04 - mae: 0.0200 - val_loss: 9.4225e-04 - val_mae: 0.0216\n",
            "Epoch 151/200\n",
            "\u001b[1m299/299\u001b[0m \u001b[32m━━━━━━━━━━━━━━━━━━━━\u001b[0m\u001b[37m\u001b[0m \u001b[1m4s\u001b[0m 14ms/step - loss: 7.9765e-04 - mae: 0.0192 - val_loss: 7.5249e-04 - val_mae: 0.0181\n",
            "Epoch 152/200\n",
            "\u001b[1m299/299\u001b[0m \u001b[32m━━━━━━━━━━━━━━━━━━━━\u001b[0m\u001b[37m\u001b[0m \u001b[1m3s\u001b[0m 11ms/step - loss: 7.2140e-04 - mae: 0.0184 - val_loss: 7.5249e-04 - val_mae: 0.0180\n",
            "Epoch 153/200\n",
            "\u001b[1m299/299\u001b[0m \u001b[32m━━━━━━━━━━━━━━━━━━━━\u001b[0m\u001b[37m\u001b[0m \u001b[1m5s\u001b[0m 12ms/step - loss: 8.2711e-04 - mae: 0.0195 - val_loss: 9.7510e-04 - val_mae: 0.0227\n",
            "Epoch 154/200\n",
            "\u001b[1m299/299\u001b[0m \u001b[32m━━━━━━━━━━━━━━━━━━━━\u001b[0m\u001b[37m\u001b[0m \u001b[1m4s\u001b[0m 14ms/step - loss: 8.2046e-04 - mae: 0.0195 - val_loss: 0.0012 - val_mae: 0.0255\n",
            "Epoch 155/200\n",
            "\u001b[1m299/299\u001b[0m \u001b[32m━━━━━━━━━━━━━━━━━━━━\u001b[0m\u001b[37m\u001b[0m \u001b[1m3s\u001b[0m 11ms/step - loss: 7.9283e-04 - mae: 0.0194 - val_loss: 8.3362e-04 - val_mae: 0.0196\n",
            "Epoch 156/200\n",
            "\u001b[1m299/299\u001b[0m \u001b[32m━━━━━━━━━━━━━━━━━━━━\u001b[0m\u001b[37m\u001b[0m \u001b[1m5s\u001b[0m 11ms/step - loss: 8.4150e-04 - mae: 0.0200 - val_loss: 7.9274e-04 - val_mae: 0.0188\n",
            "Epoch 157/200\n",
            "\u001b[1m299/299\u001b[0m \u001b[32m━━━━━━━━━━━━━━━━━━━━\u001b[0m\u001b[37m\u001b[0m \u001b[1m6s\u001b[0m 15ms/step - loss: 8.0802e-04 - mae: 0.0192 - val_loss: 7.9795e-04 - val_mae: 0.0190\n",
            "Epoch 158/200\n",
            "\u001b[1m299/299\u001b[0m \u001b[32m━━━━━━━━━━━━━━━━━━━━\u001b[0m\u001b[37m\u001b[0m \u001b[1m4s\u001b[0m 12ms/step - loss: 8.1540e-04 - mae: 0.0194 - val_loss: 8.0980e-04 - val_mae: 0.0190\n",
            "Epoch 159/200\n",
            "\u001b[1m299/299\u001b[0m \u001b[32m━━━━━━━━━━━━━━━━━━━━\u001b[0m\u001b[37m\u001b[0m \u001b[1m5s\u001b[0m 11ms/step - loss: 8.5223e-04 - mae: 0.0192 - val_loss: 7.9544e-04 - val_mae: 0.0191\n",
            "Epoch 160/200\n",
            "\u001b[1m299/299\u001b[0m \u001b[32m━━━━━━━━━━━━━━━━━━━━\u001b[0m\u001b[37m\u001b[0m \u001b[1m5s\u001b[0m 12ms/step - loss: 7.9774e-04 - mae: 0.0191 - val_loss: 9.1965e-04 - val_mae: 0.0213\n",
            "Epoch 161/200\n",
            "\u001b[1m299/299\u001b[0m \u001b[32m━━━━━━━━━━━━━━━━━━━━\u001b[0m\u001b[37m\u001b[0m \u001b[1m5s\u001b[0m 12ms/step - loss: 8.1185e-04 - mae: 0.0195 - val_loss: 8.4281e-04 - val_mae: 0.0197\n",
            "Epoch 162/200\n",
            "\u001b[1m299/299\u001b[0m \u001b[32m━━━━━━━━━━━━━━━━━━━━\u001b[0m\u001b[37m\u001b[0m \u001b[1m5s\u001b[0m 16ms/step - loss: 8.6934e-04 - mae: 0.0202 - val_loss: 8.0328e-04 - val_mae: 0.0193\n",
            "Epoch 163/200\n",
            "\u001b[1m299/299\u001b[0m \u001b[32m━━━━━━━━━━━━━━━━━━━━\u001b[0m\u001b[37m\u001b[0m \u001b[1m3s\u001b[0m 11ms/step - loss: 9.0429e-04 - mae: 0.0204 - val_loss: 8.1223e-04 - val_mae: 0.0193\n",
            "Epoch 164/200\n",
            "\u001b[1m299/299\u001b[0m \u001b[32m━━━━━━━━━━━━━━━━━━━━\u001b[0m\u001b[37m\u001b[0m \u001b[1m3s\u001b[0m 11ms/step - loss: 8.0217e-04 - mae: 0.0194 - val_loss: 8.0839e-04 - val_mae: 0.0196\n",
            "Epoch 165/200\n",
            "\u001b[1m299/299\u001b[0m \u001b[32m━━━━━━━━━━━━━━━━━━━━\u001b[0m\u001b[37m\u001b[0m \u001b[1m7s\u001b[0m 17ms/step - loss: 7.5537e-04 - mae: 0.0187 - val_loss: 7.4444e-04 - val_mae: 0.0178\n",
            "Epoch 166/200\n",
            "\u001b[1m299/299\u001b[0m \u001b[32m━━━━━━━━━━━━━━━━━━━━\u001b[0m\u001b[37m\u001b[0m \u001b[1m3s\u001b[0m 12ms/step - loss: 7.7930e-04 - mae: 0.0188 - val_loss: 7.5849e-04 - val_mae: 0.0184\n",
            "Epoch 167/200\n",
            "\u001b[1m299/299\u001b[0m \u001b[32m━━━━━━━━━━━━━━━━━━━━\u001b[0m\u001b[37m\u001b[0m \u001b[1m5s\u001b[0m 11ms/step - loss: 8.1481e-04 - mae: 0.0192 - val_loss: 0.0010 - val_mae: 0.0230\n",
            "Epoch 168/200\n",
            "\u001b[1m299/299\u001b[0m \u001b[32m━━━━━━━━━━━━━━━━━━━━\u001b[0m\u001b[37m\u001b[0m \u001b[1m5s\u001b[0m 17ms/step - loss: 8.2665e-04 - mae: 0.0194 - val_loss: 0.0010 - val_mae: 0.0232\n",
            "Epoch 169/200\n",
            "\u001b[1m299/299\u001b[0m \u001b[32m━━━━━━━━━━━━━━━━━━━━\u001b[0m\u001b[37m\u001b[0m \u001b[1m4s\u001b[0m 12ms/step - loss: 8.0976e-04 - mae: 0.0194 - val_loss: 7.4634e-04 - val_mae: 0.0181\n",
            "Epoch 170/200\n",
            "\u001b[1m299/299\u001b[0m \u001b[32m━━━━━━━━━━━━━━━━━━━━\u001b[0m\u001b[37m\u001b[0m \u001b[1m4s\u001b[0m 12ms/step - loss: 7.9418e-04 - mae: 0.0185 - val_loss: 7.6230e-04 - val_mae: 0.0181\n",
            "Epoch 171/200\n",
            "\u001b[1m299/299\u001b[0m \u001b[32m━━━━━━━━━━━━━━━━━━━━\u001b[0m\u001b[37m\u001b[0m \u001b[1m6s\u001b[0m 14ms/step - loss: 8.5696e-04 - mae: 0.0195 - val_loss: 0.0014 - val_mae: 0.0279\n",
            "Epoch 172/200\n",
            "\u001b[1m299/299\u001b[0m \u001b[32m━━━━━━━━━━━━━━━━━━━━\u001b[0m\u001b[37m\u001b[0m \u001b[1m4s\u001b[0m 12ms/step - loss: 8.8652e-04 - mae: 0.0204 - val_loss: 7.7698e-04 - val_mae: 0.0188\n",
            "Epoch 173/200\n",
            "\u001b[1m299/299\u001b[0m \u001b[32m━━━━━━━━━━━━━━━━━━━━\u001b[0m\u001b[37m\u001b[0m \u001b[1m5s\u001b[0m 12ms/step - loss: 8.8092e-04 - mae: 0.0198 - val_loss: 7.5946e-04 - val_mae: 0.0180\n",
            "Epoch 174/200\n",
            "\u001b[1m299/299\u001b[0m \u001b[32m━━━━━━━━━━━━━━━━━━━━\u001b[0m\u001b[37m\u001b[0m \u001b[1m5s\u001b[0m 18ms/step - loss: 8.5525e-04 - mae: 0.0195 - val_loss: 9.0028e-04 - val_mae: 0.0207\n",
            "Epoch 175/200\n",
            "\u001b[1m299/299\u001b[0m \u001b[32m━━━━━━━━━━━━━━━━━━━━\u001b[0m\u001b[37m\u001b[0m \u001b[1m4s\u001b[0m 12ms/step - loss: 7.8424e-04 - mae: 0.0192 - val_loss: 8.1893e-04 - val_mae: 0.0195\n",
            "Epoch 176/200\n",
            "\u001b[1m299/299\u001b[0m \u001b[32m━━━━━━━━━━━━━━━━━━━━\u001b[0m\u001b[37m\u001b[0m \u001b[1m5s\u001b[0m 12ms/step - loss: 7.8811e-04 - mae: 0.0188 - val_loss: 8.0833e-04 - val_mae: 0.0197\n",
            "Epoch 177/200\n",
            "\u001b[1m299/299\u001b[0m \u001b[32m━━━━━━━━━━━━━━━━━━━━\u001b[0m\u001b[37m\u001b[0m \u001b[1m5s\u001b[0m 13ms/step - loss: 8.1162e-04 - mae: 0.0191 - val_loss: 7.4960e-04 - val_mae: 0.0180\n",
            "Epoch 178/200\n",
            "\u001b[1m299/299\u001b[0m \u001b[32m━━━━━━━━━━━━━━━━━━━━\u001b[0m\u001b[37m\u001b[0m \u001b[1m3s\u001b[0m 11ms/step - loss: 8.0897e-04 - mae: 0.0191 - val_loss: 8.9223e-04 - val_mae: 0.0215\n",
            "Epoch 179/200\n",
            "\u001b[1m299/299\u001b[0m \u001b[32m━━━━━━━━━━━━━━━━━━━━\u001b[0m\u001b[37m\u001b[0m \u001b[1m5s\u001b[0m 12ms/step - loss: 7.9485e-04 - mae: 0.0190 - val_loss: 7.4172e-04 - val_mae: 0.0178\n",
            "Epoch 180/200\n",
            "\u001b[1m299/299\u001b[0m \u001b[32m━━━━━━━━━━━━━━━━━━━━\u001b[0m\u001b[37m\u001b[0m \u001b[1m4s\u001b[0m 14ms/step - loss: 8.1059e-04 - mae: 0.0192 - val_loss: 7.4034e-04 - val_mae: 0.0177\n",
            "Epoch 181/200\n",
            "\u001b[1m299/299\u001b[0m \u001b[32m━━━━━━━━━━━━━━━━━━━━\u001b[0m\u001b[37m\u001b[0m \u001b[1m3s\u001b[0m 11ms/step - loss: 7.8414e-04 - mae: 0.0186 - val_loss: 8.4483e-04 - val_mae: 0.0203\n",
            "Epoch 182/200\n",
            "\u001b[1m299/299\u001b[0m \u001b[32m━━━━━━━━━━━━━━━━━━━━\u001b[0m\u001b[37m\u001b[0m \u001b[1m3s\u001b[0m 11ms/step - loss: 9.0424e-04 - mae: 0.0204 - val_loss: 7.8626e-04 - val_mae: 0.0192\n",
            "Epoch 183/200\n",
            "\u001b[1m299/299\u001b[0m \u001b[32m━━━━━━━━━━━━━━━━━━━━\u001b[0m\u001b[37m\u001b[0m \u001b[1m4s\u001b[0m 12ms/step - loss: 8.2323e-04 - mae: 0.0195 - val_loss: 7.4679e-04 - val_mae: 0.0180\n",
            "Epoch 184/200\n",
            "\u001b[1m299/299\u001b[0m \u001b[32m━━━━━━━━━━━━━━━━━━━━\u001b[0m\u001b[37m\u001b[0m \u001b[1m5s\u001b[0m 12ms/step - loss: 8.0133e-04 - mae: 0.0195 - val_loss: 7.4767e-04 - val_mae: 0.0181\n",
            "Epoch 185/200\n",
            "\u001b[1m299/299\u001b[0m \u001b[32m━━━━━━━━━━━━━━━━━━━━\u001b[0m\u001b[37m\u001b[0m \u001b[1m3s\u001b[0m 11ms/step - loss: 8.0554e-04 - mae: 0.0189 - val_loss: 7.5759e-04 - val_mae: 0.0180\n",
            "Epoch 186/200\n",
            "\u001b[1m299/299\u001b[0m \u001b[32m━━━━━━━━━━━━━━━━━━━━\u001b[0m\u001b[37m\u001b[0m \u001b[1m3s\u001b[0m 12ms/step - loss: 8.6379e-04 - mae: 0.0196 - val_loss: 7.4005e-04 - val_mae: 0.0178\n",
            "Epoch 187/200\n",
            "\u001b[1m299/299\u001b[0m \u001b[32m━━━━━━━━━━━━━━━━━━━━\u001b[0m\u001b[37m\u001b[0m \u001b[1m4s\u001b[0m 14ms/step - loss: 8.1564e-04 - mae: 0.0193 - val_loss: 7.3900e-04 - val_mae: 0.0178\n",
            "Epoch 188/200\n",
            "\u001b[1m299/299\u001b[0m \u001b[32m━━━━━━━━━━━━━━━━━━━━\u001b[0m\u001b[37m\u001b[0m \u001b[1m3s\u001b[0m 11ms/step - loss: 7.7687e-04 - mae: 0.0186 - val_loss: 7.5512e-04 - val_mae: 0.0181\n",
            "Epoch 189/200\n",
            "\u001b[1m299/299\u001b[0m \u001b[32m━━━━━━━━━━━━━━━━━━━━\u001b[0m\u001b[37m\u001b[0m \u001b[1m4s\u001b[0m 12ms/step - loss: 8.1483e-04 - mae: 0.0193 - val_loss: 7.9869e-04 - val_mae: 0.0191\n",
            "Epoch 190/200\n",
            "\u001b[1m299/299\u001b[0m \u001b[32m━━━━━━━━━━━━━━━━━━━━\u001b[0m\u001b[37m\u001b[0m \u001b[1m7s\u001b[0m 18ms/step - loss: 7.8516e-04 - mae: 0.0186 - val_loss: 8.3726e-04 - val_mae: 0.0199\n",
            "Epoch 191/200\n",
            "\u001b[1m299/299\u001b[0m \u001b[32m━━━━━━━━━━━━━━━━━━━━\u001b[0m\u001b[37m\u001b[0m \u001b[1m8s\u001b[0m 11ms/step - loss: 8.1033e-04 - mae: 0.0196 - val_loss: 8.2645e-04 - val_mae: 0.0194\n",
            "Epoch 192/200\n",
            "\u001b[1m299/299\u001b[0m \u001b[32m━━━━━━━━━━━━━━━━━━━━\u001b[0m\u001b[37m\u001b[0m \u001b[1m5s\u001b[0m 18ms/step - loss: 8.3319e-04 - mae: 0.0196 - val_loss: 8.6566e-04 - val_mae: 0.0203\n",
            "Epoch 193/200\n",
            "\u001b[1m299/299\u001b[0m \u001b[32m━━━━━━━━━━━━━━━━━━━━\u001b[0m\u001b[37m\u001b[0m \u001b[1m8s\u001b[0m 12ms/step - loss: 8.1841e-04 - mae: 0.0194 - val_loss: 9.6826e-04 - val_mae: 0.0227\n",
            "Epoch 194/200\n",
            "\u001b[1m299/299\u001b[0m \u001b[32m━━━━━━━━━━━━━━━━━━━━\u001b[0m\u001b[37m\u001b[0m \u001b[1m5s\u001b[0m 17ms/step - loss: 8.5592e-04 - mae: 0.0199 - val_loss: 7.8262e-04 - val_mae: 0.0191\n",
            "Epoch 195/200\n",
            "\u001b[1m299/299\u001b[0m \u001b[32m━━━━━━━━━━━━━━━━━━━━\u001b[0m\u001b[37m\u001b[0m \u001b[1m8s\u001b[0m 12ms/step - loss: 7.8374e-04 - mae: 0.0189 - val_loss: 9.1454e-04 - val_mae: 0.0214\n",
            "Epoch 196/200\n",
            "\u001b[1m299/299\u001b[0m \u001b[32m━━━━━━━━━━━━━━━━━━━━\u001b[0m\u001b[37m\u001b[0m \u001b[1m4s\u001b[0m 15ms/step - loss: 8.2279e-04 - mae: 0.0196 - val_loss: 7.8611e-04 - val_mae: 0.0186\n",
            "Epoch 197/200\n",
            "\u001b[1m299/299\u001b[0m \u001b[32m━━━━━━━━━━━━━━━━━━━━\u001b[0m\u001b[37m\u001b[0m \u001b[1m4s\u001b[0m 12ms/step - loss: 8.4265e-04 - mae: 0.0196 - val_loss: 7.3864e-04 - val_mae: 0.0178\n",
            "Epoch 198/200\n",
            "\u001b[1m299/299\u001b[0m \u001b[32m━━━━━━━━━━━━━━━━━━━━\u001b[0m\u001b[37m\u001b[0m \u001b[1m3s\u001b[0m 12ms/step - loss: 8.1488e-04 - mae: 0.0189 - val_loss: 8.0494e-04 - val_mae: 0.0198\n",
            "Epoch 199/200\n",
            "\u001b[1m299/299\u001b[0m \u001b[32m━━━━━━━━━━━━━━━━━━━━\u001b[0m\u001b[37m\u001b[0m \u001b[1m4s\u001b[0m 12ms/step - loss: 7.4829e-04 - mae: 0.0185 - val_loss: 7.9436e-04 - val_mae: 0.0188\n",
            "Epoch 200/200\n",
            "\u001b[1m299/299\u001b[0m \u001b[32m━━━━━━━━━━━━━━━━━━━━\u001b[0m\u001b[37m\u001b[0m \u001b[1m4s\u001b[0m 14ms/step - loss: 8.8420e-04 - mae: 0.0203 - val_loss: 0.0012 - val_mae: 0.0263\n"
          ]
        }
      ],
      "source": [
        "Es = EarlyStopping(monitor='val_mae',patience=10)\n",
        "learning_rate =  0.002241032085627275\n",
        "model.compile(optimizer=Adam(learning_rate=learning_rate), loss='mse', metrics=['mae'])\n",
        "# history = model.fit(x_train, y_train, epochs=200, validation_data=(x_train, y_train),callbacks=Es)\n",
        "history = model.fit(x_train, y_train, epochs=200, batch_size=32,validation_data=(x_train, y_train))"
      ]
    },
    {
      "cell_type": "code",
      "execution_count": 74,
      "metadata": {
        "id": "CVnXsL9jmTE6",
        "colab": {
          "base_uri": "https://localhost:8080/"
        },
        "outputId": "63ca2cbd-70e8-4c7a-d0e2-c3099a5f1fe8"
      },
      "outputs": [
        {
          "output_type": "stream",
          "name": "stdout",
          "text": [
            "\u001b[1m34/34\u001b[0m \u001b[32m━━━━━━━━━━━━━━━━━━━━\u001b[0m\u001b[37m\u001b[0m \u001b[1m0s\u001b[0m 5ms/step - loss: 6.2038e-04 - mae: 0.0167\n",
            "Test Loss: 0.0007715405663475394, Test MAE: 0.018309276551008224\n"
          ]
        }
      ],
      "source": [
        "test_loss, test_mae = model.evaluate(x_test, y_test)\n",
        "print(f'Test Loss: {test_loss}, Test MAE: {test_mae}')\n",
        "# Test Loss: 0.0007733969250693917, Test MAE: 0.017693864181637764\n",
        "\n"
      ]
    },
    {
      "cell_type": "code",
      "execution_count": 75,
      "metadata": {
        "id": "IFjNz8LYmTA-",
        "colab": {
          "base_uri": "https://localhost:8080/"
        },
        "outputId": "90c205a7-6648-4c44-d449-ef6c12bb60ac"
      },
      "outputs": [
        {
          "output_type": "stream",
          "name": "stdout",
          "text": [
            "\u001b[1m34/34\u001b[0m \u001b[32m━━━━━━━━━━━━━━━━━━━━\u001b[0m\u001b[37m\u001b[0m \u001b[1m1s\u001b[0m 9ms/step\n"
          ]
        }
      ],
      "source": [
        "y_pred = model.predict(x_test)"
      ]
    },
    {
      "cell_type": "code",
      "execution_count": 76,
      "metadata": {
        "id": "snvAwawNmWmo"
      },
      "outputs": [],
      "source": [
        "y_pred = y_scaler.inverse_transform(y_pred)\n",
        "y_test = y_scaler.inverse_transform(y_test)\n"
      ]
    },
    {
      "cell_type": "code",
      "execution_count": 77,
      "metadata": {
        "id": "R72-4vnbmWkI",
        "colab": {
          "base_uri": "https://localhost:8080/"
        },
        "outputId": "c74122ef-a5b3-4b89-c80e-3eb3ffb447f7"
      },
      "outputs": [
        {
          "output_type": "stream",
          "name": "stdout",
          "text": [
            "MAE: 12.392951006043631\n",
            "MSE: 341.0622088695247\n",
            "RMSE: 18.46786963538363\n",
            "R-squared: 0.9729581132019958\n"
          ]
        }
      ],
      "source": [
        "mae = mean_absolute_error(y_test, y_pred)\n",
        "mse = mean_squared_error(y_test, y_pred)\n",
        "rmse = np.sqrt(mse)\n",
        "r2 = r2_score(y_test,y_pred)\n",
        "print(f\"MAE: {mae}\")\n",
        "print(f\"MSE: {mse}\")\n",
        "print(f\"RMSE: {rmse}\")\n",
        "print(f\"R-squared: {r2}\")\n",
        "# MAE: 11.976406231574297\n",
        "# MSE: 343.1247494796402\n",
        "# RMSE: 18.52362679065955\n",
        "# R-squared: 0.9727945800158362"
      ]
    },
    {
      "cell_type": "code",
      "execution_count": 78,
      "metadata": {
        "id": "1SxnLYo3mWhf",
        "colab": {
          "base_uri": "https://localhost:8080/",
          "height": 718
        },
        "outputId": "f21ea9ec-c54a-433e-eae9-3b7975224469"
      },
      "outputs": [
        {
          "output_type": "display_data",
          "data": {
            "text/plain": [
              "<Figure size 1200x800 with 1 Axes>"
            ],
            "image/png": "[encoded data removed]"
          },
          "metadata": {}
        }
      ],
      "source": [
        "plt.figure(figsize=(12, 8))\n",
        "plt.plot(y_test, label='Actual')\n",
        "plt.plot(y_pred, label='Predicted')\n",
        "plt.title('Actual vs. Predicted Close Price')\n",
        "plt.xlabel('Time')\n",
        "plt.ylabel('Close Price')\n",
        "plt.legend()\n",
        "plt.show()"
      ]
    },
    {
      "cell_type": "code",
      "execution_count": 79,
      "metadata": {
        "id": "-khbeMsVmS-L"
      },
      "outputs": [],
      "source": [
        "df_results = pd.DataFrame({\n",
        "    'Actual': y_test.flatten(),\n",
        "    'Predicted': y_pred.flatten()\n",
        "}, index=df.index[-len(y_test):])\n",
        "\n",
        "df_results.to_csv('best30min.csv')\n",
        "\n",
        "# print(\"Results saved to 'best30min.csv'\")\n",
        "# from google.colab import files\n",
        "\n",
        "# files.download('best30min.csv')"
      ]
    },
    {
      "cell_type": "code",
      "execution_count": 80,
      "metadata": {
        "id": "UrxsKZTPmSaw"
      },
      "outputs": [],
      "source": [
        "def evaluate_predictions(y_test, y_pred):\n",
        "    # محاسبه معیارهای دقت مدل\n",
        "    mae = mean_absolute_error(y_test, y_pred)\n",
        "    rmse = np.sqrt(mean_squared_error(y_test, y_pred))\n",
        "    mape = np.mean(np.abs((y_test - y_pred) / y_test)) * 100\n",
        "\n",
        "    print(f\"Mean Absolute Error (MAE): {mae:.4f}\")\n",
        "    print(f\"Root Mean Squared Error (RMSE): {rmse:.4f}\")\n",
        "    print(f\"Mean Absolute Percentage Error (MAPE): {mape:.2f}%\")\n",
        "\n",
        "    # بررسی جهت حرکت قیمت‌ها\n",
        "    correct_direction = np.sum(np.sign(y_pred[1:] - y_pred[:-1]) == np.sign(y_test[1:] - y_test[:-1]))\n",
        "    accuracy = correct_direction / (len(y_test) - 1) * 100\n",
        "\n",
        "    print(f\"Trend Direction Accuracy: {accuracy:.2f}%\")"
      ]
    },
    {
      "cell_type": "code",
      "execution_count": 81,
      "metadata": {
        "id": "Jr52yZ6QmAGb",
        "colab": {
          "base_uri": "https://localhost:8080/"
        },
        "outputId": "913c69c1-ea6f-4109-f528-f29c3d3762da"
      },
      "outputs": [
        {
          "output_type": "stream",
          "name": "stdout",
          "text": [
            "Mean Absolute Error (MAE): 12.3930\n",
            "Root Mean Squared Error (RMSE): 18.4679\n",
            "Mean Absolute Percentage Error (MAPE): 0.21%\n",
            "Trend Direction Accuracy: 50.42%\n"
          ]
        }
      ],
      "source": [
        "evaluate_predictions(y_test, y_pred)\n"
      ]
    },
    {
      "cell_type": "code",
      "execution_count": 81,
      "metadata": {
        "id": "SaARR3hFmdPq"
      },
      "outputs": [],
      "source": []
    },
    {
      "cell_type": "code",
      "execution_count": 81,
      "metadata": {
        "id": "Zgdq8ra4mdSb"
      },
      "outputs": [],
      "source": []
    },
    {
      "cell_type": "code",
      "execution_count": 81,
      "metadata": {
        "id": "Fj91t-TqmdUd"
      },
      "outputs": [],
      "source": []
    }
  ],
  "metadata": {
    "accelerator": "GPU",
    "colab": {
      "gpuType": "T4",
      "provenance": []
    },
    "kernelspec": {
      "display_name": "Python 3",
      "name": "python3"
    },
    "language_info": {
      "name": "python"
    }
  },
  "nbformat": 4,
  "nbformat_minor": 0
}